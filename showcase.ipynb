{
 "cells": [
  {
   "cell_type": "markdown",
   "id": "81476cdd-c035-414d-8f58-b4715f0b465e",
   "metadata": {},
   "source": [
    "# Batch convert lng,lat to timezone name in dataframes"
   ]
  },
  {
   "cell_type": "markdown",
   "id": "d9124c6b-8466-4150-9744-f1e14358b7db",
   "metadata": {},
   "source": [
    "## Setup"
   ]
  },
  {
   "cell_type": "code",
   "execution_count": 1,
   "id": "731953c2-fe12-47f0-afaa-517d7d2ad199",
   "metadata": {
    "tags": []
   },
   "outputs": [],
   "source": [
    "import pandas as pd\n",
    "import polars as pl\n",
    "import citiespy\n",
    "import tzfpy\n",
    "from timezonefinder import TimezoneFinder"
   ]
  },
  {
   "cell_type": "code",
   "execution_count": 2,
   "id": "c89853fe-ec5b-423c-83db-705fb84b1542",
   "metadata": {
    "tags": []
   },
   "outputs": [
    {
     "data": {
      "text/plain": [
       "'Etc/GMT'"
      ]
     },
     "execution_count": 2,
     "metadata": {},
     "output_type": "execute_result"
    }
   ],
   "source": [
    "tf = TimezoneFinder(in_memory=True)\n",
    "tf.timezone_at(lng=0, lat=0)"
   ]
  },
  {
   "cell_type": "code",
   "execution_count": 3,
   "id": "1deb708a-3a97-4706-a4fc-5bdb9a058b5c",
   "metadata": {
    "tags": []
   },
   "outputs": [
    {
     "data": {
      "text/plain": [
       "'Etc/GMT'"
      ]
     },
     "execution_count": 3,
     "metadata": {},
     "output_type": "execute_result"
    }
   ],
   "source": [
    "tzfpy.get_tz(0, 0)"
   ]
  },
  {
   "cell_type": "code",
   "execution_count": 4,
   "id": "e81c2410-1cdc-453d-9071-defb0ed9b7b1",
   "metadata": {
    "tags": []
   },
   "outputs": [
    {
     "data": {
      "text/plain": [
       "['__all__',\n",
       " '__builtins__',\n",
       " '__cached__',\n",
       " '__doc__',\n",
       " '__file__',\n",
       " '__loader__',\n",
       " '__name__',\n",
       " '__package__',\n",
       " '__path__',\n",
       " '__spec__',\n",
       " 'all_cities',\n",
       " 'citiespy',\n",
       " 'random_city']"
      ]
     },
     "execution_count": 4,
     "metadata": {},
     "output_type": "execute_result"
    }
   ],
   "source": [
    "dir(citiespy)"
   ]
  },
  {
   "cell_type": "code",
   "execution_count": 5,
   "id": "d5b67423-3027-416f-9e62-36875198553a",
   "metadata": {
    "tags": []
   },
   "outputs": [],
   "source": [
    "cities_as_dict = []\n",
    "for city in citiespy.all_cities():\n",
    "    cities_as_dict.append({\"name\": city.name, \"lng\": city.lng, \"lat\": city.lat})"
   ]
  },
  {
   "cell_type": "code",
   "execution_count": 6,
   "id": "e49229b5-e9e4-4d98-9f4e-f6d3817af58c",
   "metadata": {
    "tags": []
   },
   "outputs": [
    {
     "data": {
      "text/plain": [
       "140874"
      ]
     },
     "execution_count": 6,
     "metadata": {},
     "output_type": "execute_result"
    }
   ],
   "source": [
    "len(cities_as_dict)"
   ]
  },
  {
   "cell_type": "markdown",
   "id": "716e2972-3445-4f05-94ed-87c0b5fab0dd",
   "metadata": {},
   "source": [
    "## Pandas"
   ]
  },
  {
   "cell_type": "code",
   "execution_count": 7,
   "id": "9ba7f74e-07f6-4b63-b361-e13d7131d781",
   "metadata": {
    "tags": []
   },
   "outputs": [],
   "source": [
    "df = pd.DataFrame(cities_as_dict)"
   ]
  },
  {
   "cell_type": "code",
   "execution_count": 8,
   "id": "c7c1880d-607c-4b66-a0a3-b3f73280584e",
   "metadata": {
    "tags": []
   },
   "outputs": [
    {
     "data": {
      "text/html": [
       "<div>\n",
       "<style scoped>\n",
       "    .dataframe tbody tr th:only-of-type {\n",
       "        vertical-align: middle;\n",
       "    }\n",
       "\n",
       "    .dataframe tbody tr th {\n",
       "        vertical-align: top;\n",
       "    }\n",
       "\n",
       "    .dataframe thead th {\n",
       "        text-align: right;\n",
       "    }\n",
       "</style>\n",
       "<table border=\"1\" class=\"dataframe\">\n",
       "  <thead>\n",
       "    <tr style=\"text-align: right;\">\n",
       "      <th></th>\n",
       "      <th>name</th>\n",
       "      <th>lng</th>\n",
       "      <th>lat</th>\n",
       "    </tr>\n",
       "  </thead>\n",
       "  <tbody>\n",
       "    <tr>\n",
       "      <th>0</th>\n",
       "      <td>Sant Julià de Lòria</td>\n",
       "      <td>1.49129</td>\n",
       "      <td>42.46372</td>\n",
       "    </tr>\n",
       "    <tr>\n",
       "      <th>1</th>\n",
       "      <td>Pas de la Casa</td>\n",
       "      <td>1.73361</td>\n",
       "      <td>42.54277</td>\n",
       "    </tr>\n",
       "    <tr>\n",
       "      <th>2</th>\n",
       "      <td>Ordino</td>\n",
       "      <td>1.53319</td>\n",
       "      <td>42.55623</td>\n",
       "    </tr>\n",
       "    <tr>\n",
       "      <th>3</th>\n",
       "      <td>les Escaldes</td>\n",
       "      <td>1.53414</td>\n",
       "      <td>42.50729</td>\n",
       "    </tr>\n",
       "    <tr>\n",
       "      <th>4</th>\n",
       "      <td>la Massana</td>\n",
       "      <td>1.51483</td>\n",
       "      <td>42.54499</td>\n",
       "    </tr>\n",
       "    <tr>\n",
       "      <th>...</th>\n",
       "      <td>...</td>\n",
       "      <td>...</td>\n",
       "      <td>...</td>\n",
       "    </tr>\n",
       "    <tr>\n",
       "      <th>140869</th>\n",
       "      <td>Beitbridge</td>\n",
       "      <td>30.00000</td>\n",
       "      <td>-22.21667</td>\n",
       "    </tr>\n",
       "    <tr>\n",
       "      <th>140870</th>\n",
       "      <td>Beatrice</td>\n",
       "      <td>30.84730</td>\n",
       "      <td>-18.25283</td>\n",
       "    </tr>\n",
       "    <tr>\n",
       "      <th>140871</th>\n",
       "      <td>Banket</td>\n",
       "      <td>30.40000</td>\n",
       "      <td>-17.38333</td>\n",
       "    </tr>\n",
       "    <tr>\n",
       "      <th>140872</th>\n",
       "      <td>Epworth</td>\n",
       "      <td>31.14750</td>\n",
       "      <td>-17.89000</td>\n",
       "    </tr>\n",
       "    <tr>\n",
       "      <th>140873</th>\n",
       "      <td>Chitungwiza</td>\n",
       "      <td>31.07555</td>\n",
       "      <td>-18.01274</td>\n",
       "    </tr>\n",
       "  </tbody>\n",
       "</table>\n",
       "<p>140874 rows × 3 columns</p>\n",
       "</div>"
      ],
      "text/plain": [
       "                       name       lng       lat\n",
       "0       Sant Julià de Lòria   1.49129  42.46372\n",
       "1            Pas de la Casa   1.73361  42.54277\n",
       "2                    Ordino   1.53319  42.55623\n",
       "3              les Escaldes   1.53414  42.50729\n",
       "4                la Massana   1.51483  42.54499\n",
       "...                     ...       ...       ...\n",
       "140869           Beitbridge  30.00000 -22.21667\n",
       "140870             Beatrice  30.84730 -18.25283\n",
       "140871               Banket  30.40000 -17.38333\n",
       "140872              Epworth  31.14750 -17.89000\n",
       "140873          Chitungwiza  31.07555 -18.01274\n",
       "\n",
       "[140874 rows x 3 columns]"
      ]
     },
     "execution_count": 8,
     "metadata": {},
     "output_type": "execute_result"
    }
   ],
   "source": [
    "df"
   ]
  },
  {
   "cell_type": "code",
   "execution_count": 9,
   "id": "0cb8a43f-2231-4e1a-a8ac-274242f6484f",
   "metadata": {
    "tags": []
   },
   "outputs": [
    {
     "name": "stdout",
     "output_type": "stream",
     "text": [
      "CPU times: user 2.52 s, sys: 29.8 ms, total: 2.55 s\n",
      "Wall time: 2.55 s\n"
     ]
    }
   ],
   "source": [
    "%%time\n",
    "df[\"tz_from_tzfpy\"] = df.apply(lambda x: tzfpy.get_tz(x.lng, x.lat), axis=1)"
   ]
  },
  {
   "cell_type": "code",
   "execution_count": 10,
   "id": "83c1956f-5b66-4103-9822-39446c092af7",
   "metadata": {
    "tags": []
   },
   "outputs": [
    {
     "name": "stdout",
     "output_type": "stream",
     "text": [
      "CPU times: user 10.6 s, sys: 481 ms, total: 11.1 s\n",
      "Wall time: 11.1 s\n"
     ]
    }
   ],
   "source": [
    "%%time\n",
    "df[\"tz_from_timezonefinder\"] = df.apply(lambda x: tf.timezone_at(lng=x.lng, lat=x.lat), axis=1)"
   ]
  },
  {
   "cell_type": "code",
   "execution_count": 11,
   "id": "11cbae4b-c73f-4107-b450-63df6b1447e0",
   "metadata": {
    "tags": []
   },
   "outputs": [
    {
     "data": {
      "text/html": [
       "<div>\n",
       "<style scoped>\n",
       "    .dataframe tbody tr th:only-of-type {\n",
       "        vertical-align: middle;\n",
       "    }\n",
       "\n",
       "    .dataframe tbody tr th {\n",
       "        vertical-align: top;\n",
       "    }\n",
       "\n",
       "    .dataframe thead th {\n",
       "        text-align: right;\n",
       "    }\n",
       "</style>\n",
       "<table border=\"1\" class=\"dataframe\">\n",
       "  <thead>\n",
       "    <tr style=\"text-align: right;\">\n",
       "      <th></th>\n",
       "      <th>name</th>\n",
       "      <th>lng</th>\n",
       "      <th>lat</th>\n",
       "      <th>tz_from_tzfpy</th>\n",
       "      <th>tz_from_timezonefinder</th>\n",
       "    </tr>\n",
       "  </thead>\n",
       "  <tbody>\n",
       "    <tr>\n",
       "      <th>0</th>\n",
       "      <td>Sant Julià de Lòria</td>\n",
       "      <td>1.49129</td>\n",
       "      <td>42.46372</td>\n",
       "      <td>Europe/Andorra</td>\n",
       "      <td>Europe/Andorra</td>\n",
       "    </tr>\n",
       "    <tr>\n",
       "      <th>1</th>\n",
       "      <td>Pas de la Casa</td>\n",
       "      <td>1.73361</td>\n",
       "      <td>42.54277</td>\n",
       "      <td>Europe/Andorra</td>\n",
       "      <td>Europe/Andorra</td>\n",
       "    </tr>\n",
       "    <tr>\n",
       "      <th>2</th>\n",
       "      <td>Ordino</td>\n",
       "      <td>1.53319</td>\n",
       "      <td>42.55623</td>\n",
       "      <td>Europe/Andorra</td>\n",
       "      <td>Europe/Andorra</td>\n",
       "    </tr>\n",
       "    <tr>\n",
       "      <th>3</th>\n",
       "      <td>les Escaldes</td>\n",
       "      <td>1.53414</td>\n",
       "      <td>42.50729</td>\n",
       "      <td>Europe/Andorra</td>\n",
       "      <td>Europe/Andorra</td>\n",
       "    </tr>\n",
       "    <tr>\n",
       "      <th>4</th>\n",
       "      <td>la Massana</td>\n",
       "      <td>1.51483</td>\n",
       "      <td>42.54499</td>\n",
       "      <td>Europe/Andorra</td>\n",
       "      <td>Europe/Andorra</td>\n",
       "    </tr>\n",
       "    <tr>\n",
       "      <th>...</th>\n",
       "      <td>...</td>\n",
       "      <td>...</td>\n",
       "      <td>...</td>\n",
       "      <td>...</td>\n",
       "      <td>...</td>\n",
       "    </tr>\n",
       "    <tr>\n",
       "      <th>140869</th>\n",
       "      <td>Beitbridge</td>\n",
       "      <td>30.00000</td>\n",
       "      <td>-22.21667</td>\n",
       "      <td>Africa/Harare</td>\n",
       "      <td>Africa/Harare</td>\n",
       "    </tr>\n",
       "    <tr>\n",
       "      <th>140870</th>\n",
       "      <td>Beatrice</td>\n",
       "      <td>30.84730</td>\n",
       "      <td>-18.25283</td>\n",
       "      <td>Africa/Harare</td>\n",
       "      <td>Africa/Harare</td>\n",
       "    </tr>\n",
       "    <tr>\n",
       "      <th>140871</th>\n",
       "      <td>Banket</td>\n",
       "      <td>30.40000</td>\n",
       "      <td>-17.38333</td>\n",
       "      <td>Africa/Harare</td>\n",
       "      <td>Africa/Harare</td>\n",
       "    </tr>\n",
       "    <tr>\n",
       "      <th>140872</th>\n",
       "      <td>Epworth</td>\n",
       "      <td>31.14750</td>\n",
       "      <td>-17.89000</td>\n",
       "      <td>Africa/Harare</td>\n",
       "      <td>Africa/Harare</td>\n",
       "    </tr>\n",
       "    <tr>\n",
       "      <th>140873</th>\n",
       "      <td>Chitungwiza</td>\n",
       "      <td>31.07555</td>\n",
       "      <td>-18.01274</td>\n",
       "      <td>Africa/Harare</td>\n",
       "      <td>Africa/Harare</td>\n",
       "    </tr>\n",
       "  </tbody>\n",
       "</table>\n",
       "<p>140874 rows × 5 columns</p>\n",
       "</div>"
      ],
      "text/plain": [
       "                       name       lng       lat   tz_from_tzfpy   \n",
       "0       Sant Julià de Lòria   1.49129  42.46372  Europe/Andorra  \\\n",
       "1            Pas de la Casa   1.73361  42.54277  Europe/Andorra   \n",
       "2                    Ordino   1.53319  42.55623  Europe/Andorra   \n",
       "3              les Escaldes   1.53414  42.50729  Europe/Andorra   \n",
       "4                la Massana   1.51483  42.54499  Europe/Andorra   \n",
       "...                     ...       ...       ...             ...   \n",
       "140869           Beitbridge  30.00000 -22.21667   Africa/Harare   \n",
       "140870             Beatrice  30.84730 -18.25283   Africa/Harare   \n",
       "140871               Banket  30.40000 -17.38333   Africa/Harare   \n",
       "140872              Epworth  31.14750 -17.89000   Africa/Harare   \n",
       "140873          Chitungwiza  31.07555 -18.01274   Africa/Harare   \n",
       "\n",
       "       tz_from_timezonefinder  \n",
       "0              Europe/Andorra  \n",
       "1              Europe/Andorra  \n",
       "2              Europe/Andorra  \n",
       "3              Europe/Andorra  \n",
       "4              Europe/Andorra  \n",
       "...                       ...  \n",
       "140869          Africa/Harare  \n",
       "140870          Africa/Harare  \n",
       "140871          Africa/Harare  \n",
       "140872          Africa/Harare  \n",
       "140873          Africa/Harare  \n",
       "\n",
       "[140874 rows x 5 columns]"
      ]
     },
     "execution_count": 11,
     "metadata": {},
     "output_type": "execute_result"
    }
   ],
   "source": [
    "df"
   ]
  },
  {
   "cell_type": "markdown",
   "id": "7efc9fc4-7ff4-4ccf-9b59-fc02135553a7",
   "metadata": {},
   "source": [
    "## Polars"
   ]
  },
  {
   "cell_type": "code",
   "execution_count": 12,
   "id": "0d97c201-a7c7-449c-b98e-8e872a2b8c92",
   "metadata": {
    "tags": []
   },
   "outputs": [],
   "source": [
    "p_df = pl.from_dicts(cities_as_dict)"
   ]
  },
  {
   "cell_type": "code",
   "execution_count": 13,
   "id": "15ee3e2a-fa72-48d9-92b7-d79aa073ab16",
   "metadata": {
    "tags": []
   },
   "outputs": [
    {
     "data": {
      "text/html": [
       "<div><style>\n",
       ".dataframe > thead > tr > th,\n",
       ".dataframe > tbody > tr > td {\n",
       "  text-align: right;\n",
       "}\n",
       "</style>\n",
       "<small>shape: (140874, 3)</small><table border=\"1\" class=\"dataframe\"><thead><tr><th>name</th><th>lng</th><th>lat</th></tr><tr><td>str</td><td>f64</td><td>f64</td></tr></thead><tbody><tr><td>&quot;Sant Julià de …</td><td>1.49129</td><td>42.46372</td></tr><tr><td>&quot;Pas de la Casa…</td><td>1.73361</td><td>42.54277</td></tr><tr><td>&quot;Ordino&quot;</td><td>1.53319</td><td>42.55623</td></tr><tr><td>&quot;les Escaldes&quot;</td><td>1.53414</td><td>42.50729</td></tr><tr><td>&quot;la Massana&quot;</td><td>1.51483</td><td>42.54499</td></tr><tr><td>&quot;Encamp&quot;</td><td>1.58014</td><td>42.53474</td></tr><tr><td>&quot;Canillo&quot;</td><td>1.59756</td><td>42.5676</td></tr><tr><td>&quot;Arinsal&quot;</td><td>1.48453</td><td>42.57205</td></tr><tr><td>&quot;Andorra la Vel…</td><td>1.52109</td><td>42.50779</td></tr><tr><td>&quot;Umm Al Quwain …</td><td>55.55517</td><td>25.56473</td></tr><tr><td>&quot;Ras Al Khaimah…</td><td>55.9432</td><td>25.78953</td></tr><tr><td>&quot;Muzayri‘&quot;</td><td>53.7881</td><td>23.14355</td></tr><tr><td>&hellip;</td><td>&hellip;</td><td>&hellip;</td></tr><tr><td>&quot;Chimanimani&quot;</td><td>32.86667</td><td>-19.8</td></tr><tr><td>&quot;Chegutu&quot;</td><td>30.14074</td><td>-18.13021</td></tr><tr><td>&quot;Chakari&quot;</td><td>29.89246</td><td>-18.06294</td></tr><tr><td>&quot;Centenary&quot;</td><td>31.11462</td><td>-16.72289</td></tr><tr><td>&quot;Bulawayo&quot;</td><td>28.58333</td><td>-20.15</td></tr><tr><td>&quot;Binga&quot;</td><td>27.34139</td><td>-17.62027</td></tr><tr><td>&quot;Bindura&quot;</td><td>31.33056</td><td>-17.30192</td></tr><tr><td>&quot;Beitbridge&quot;</td><td>30.0</td><td>-22.21667</td></tr><tr><td>&quot;Beatrice&quot;</td><td>30.8473</td><td>-18.25283</td></tr><tr><td>&quot;Banket&quot;</td><td>30.4</td><td>-17.38333</td></tr><tr><td>&quot;Epworth&quot;</td><td>31.1475</td><td>-17.89</td></tr><tr><td>&quot;Chitungwiza&quot;</td><td>31.07555</td><td>-18.01274</td></tr></tbody></table></div>"
      ],
      "text/plain": [
       "shape: (140_874, 3)\n",
       "┌─────────────────────┬──────────┬───────────┐\n",
       "│ name                ┆ lng      ┆ lat       │\n",
       "│ ---                 ┆ ---      ┆ ---       │\n",
       "│ str                 ┆ f64      ┆ f64       │\n",
       "╞═════════════════════╪══════════╪═══════════╡\n",
       "│ Sant Julià de Lòria ┆ 1.49129  ┆ 42.46372  │\n",
       "│ Pas de la Casa      ┆ 1.73361  ┆ 42.54277  │\n",
       "│ Ordino              ┆ 1.53319  ┆ 42.55623  │\n",
       "│ les Escaldes        ┆ 1.53414  ┆ 42.50729  │\n",
       "│ …                   ┆ …        ┆ …         │\n",
       "│ Beatrice            ┆ 30.8473  ┆ -18.25283 │\n",
       "│ Banket              ┆ 30.4     ┆ -17.38333 │\n",
       "│ Epworth             ┆ 31.1475  ┆ -17.89    │\n",
       "│ Chitungwiza         ┆ 31.07555 ┆ -18.01274 │\n",
       "└─────────────────────┴──────────┴───────────┘"
      ]
     },
     "execution_count": 13,
     "metadata": {},
     "output_type": "execute_result"
    }
   ],
   "source": [
    "p_df"
   ]
  },
  {
   "cell_type": "code",
   "execution_count": 14,
   "id": "23cd301c-a038-414c-af54-436307564b05",
   "metadata": {
    "tags": []
   },
   "outputs": [
    {
     "name": "stdout",
     "output_type": "stream",
     "text": [
      "CPU times: user 703 ms, sys: 57.5 ms, total: 760 ms\n",
      "Wall time: 752 ms\n"
     ]
    }
   ],
   "source": [
    "%%time\n",
    "p_df = p_df.with_columns(\n",
    "    pl.struct([\"lng\", \"lat\"])\n",
    "    .apply(lambda cols: tzfpy.get_tz(cols[\"lng\"], cols[\"lat\"]))\n",
    "    .alias(\"tz_from_tzfpy\")\n",
    ")"
   ]
  },
  {
   "cell_type": "code",
   "execution_count": 15,
   "id": "75e863e1-c2c5-4666-8470-e8af41e9c462",
   "metadata": {
    "tags": []
   },
   "outputs": [
    {
     "name": "stdout",
     "output_type": "stream",
     "text": [
      "CPU times: user 7.91 s, sys: 604 ms, total: 8.51 s\n",
      "Wall time: 8.58 s\n"
     ]
    }
   ],
   "source": [
    "%%time\n",
    "p_df = p_df.with_columns(\n",
    "    pl.struct([\"lng\", \"lat\"])\n",
    "    .apply(lambda cols: tf.timezone_at(lng=cols[\"lng\"], lat=cols[\"lat\"]))\n",
    "    .alias(\"tz_from_timezonefinder\")\n",
    ")"
   ]
  },
  {
   "cell_type": "code",
   "execution_count": 16,
   "id": "8dc43189-6c58-4818-ac7b-2bb0904e727b",
   "metadata": {
    "tags": []
   },
   "outputs": [
    {
     "data": {
      "text/html": [
       "<div><style>\n",
       ".dataframe > thead > tr > th,\n",
       ".dataframe > tbody > tr > td {\n",
       "  text-align: right;\n",
       "}\n",
       "</style>\n",
       "<small>shape: (140874, 5)</small><table border=\"1\" class=\"dataframe\"><thead><tr><th>name</th><th>lng</th><th>lat</th><th>tz_from_tzfpy</th><th>tz_from_timezonefinder</th></tr><tr><td>str</td><td>f64</td><td>f64</td><td>str</td><td>str</td></tr></thead><tbody><tr><td>&quot;Sant Julià de …</td><td>1.49129</td><td>42.46372</td><td>&quot;Europe/Andorra…</td><td>&quot;Europe/Andorra…</td></tr><tr><td>&quot;Pas de la Casa…</td><td>1.73361</td><td>42.54277</td><td>&quot;Europe/Andorra…</td><td>&quot;Europe/Andorra…</td></tr><tr><td>&quot;Ordino&quot;</td><td>1.53319</td><td>42.55623</td><td>&quot;Europe/Andorra…</td><td>&quot;Europe/Andorra…</td></tr><tr><td>&quot;les Escaldes&quot;</td><td>1.53414</td><td>42.50729</td><td>&quot;Europe/Andorra…</td><td>&quot;Europe/Andorra…</td></tr><tr><td>&quot;la Massana&quot;</td><td>1.51483</td><td>42.54499</td><td>&quot;Europe/Andorra…</td><td>&quot;Europe/Andorra…</td></tr><tr><td>&quot;Encamp&quot;</td><td>1.58014</td><td>42.53474</td><td>&quot;Europe/Andorra…</td><td>&quot;Europe/Andorra…</td></tr><tr><td>&quot;Canillo&quot;</td><td>1.59756</td><td>42.5676</td><td>&quot;Europe/Andorra…</td><td>&quot;Europe/Andorra…</td></tr><tr><td>&quot;Arinsal&quot;</td><td>1.48453</td><td>42.57205</td><td>&quot;Europe/Andorra…</td><td>&quot;Europe/Andorra…</td></tr><tr><td>&quot;Andorra la Vel…</td><td>1.52109</td><td>42.50779</td><td>&quot;Europe/Andorra…</td><td>&quot;Europe/Andorra…</td></tr><tr><td>&quot;Umm Al Quwain …</td><td>55.55517</td><td>25.56473</td><td>&quot;Asia/Dubai&quot;</td><td>&quot;Asia/Dubai&quot;</td></tr><tr><td>&quot;Ras Al Khaimah…</td><td>55.9432</td><td>25.78953</td><td>&quot;Asia/Dubai&quot;</td><td>&quot;Asia/Dubai&quot;</td></tr><tr><td>&quot;Muzayri‘&quot;</td><td>53.7881</td><td>23.14355</td><td>&quot;Asia/Dubai&quot;</td><td>&quot;Asia/Dubai&quot;</td></tr><tr><td>&hellip;</td><td>&hellip;</td><td>&hellip;</td><td>&hellip;</td><td>&hellip;</td></tr><tr><td>&quot;Chimanimani&quot;</td><td>32.86667</td><td>-19.8</td><td>&quot;Africa/Harare&quot;</td><td>&quot;Africa/Harare&quot;</td></tr><tr><td>&quot;Chegutu&quot;</td><td>30.14074</td><td>-18.13021</td><td>&quot;Africa/Harare&quot;</td><td>&quot;Africa/Harare&quot;</td></tr><tr><td>&quot;Chakari&quot;</td><td>29.89246</td><td>-18.06294</td><td>&quot;Africa/Harare&quot;</td><td>&quot;Africa/Harare&quot;</td></tr><tr><td>&quot;Centenary&quot;</td><td>31.11462</td><td>-16.72289</td><td>&quot;Africa/Harare&quot;</td><td>&quot;Africa/Harare&quot;</td></tr><tr><td>&quot;Bulawayo&quot;</td><td>28.58333</td><td>-20.15</td><td>&quot;Africa/Harare&quot;</td><td>&quot;Africa/Harare&quot;</td></tr><tr><td>&quot;Binga&quot;</td><td>27.34139</td><td>-17.62027</td><td>&quot;Africa/Harare&quot;</td><td>&quot;Africa/Harare&quot;</td></tr><tr><td>&quot;Bindura&quot;</td><td>31.33056</td><td>-17.30192</td><td>&quot;Africa/Harare&quot;</td><td>&quot;Africa/Harare&quot;</td></tr><tr><td>&quot;Beitbridge&quot;</td><td>30.0</td><td>-22.21667</td><td>&quot;Africa/Harare&quot;</td><td>&quot;Africa/Harare&quot;</td></tr><tr><td>&quot;Beatrice&quot;</td><td>30.8473</td><td>-18.25283</td><td>&quot;Africa/Harare&quot;</td><td>&quot;Africa/Harare&quot;</td></tr><tr><td>&quot;Banket&quot;</td><td>30.4</td><td>-17.38333</td><td>&quot;Africa/Harare&quot;</td><td>&quot;Africa/Harare&quot;</td></tr><tr><td>&quot;Epworth&quot;</td><td>31.1475</td><td>-17.89</td><td>&quot;Africa/Harare&quot;</td><td>&quot;Africa/Harare&quot;</td></tr><tr><td>&quot;Chitungwiza&quot;</td><td>31.07555</td><td>-18.01274</td><td>&quot;Africa/Harare&quot;</td><td>&quot;Africa/Harare&quot;</td></tr></tbody></table></div>"
      ],
      "text/plain": [
       "shape: (140_874, 5)\n",
       "┌─────────────────────┬──────────┬───────────┬────────────────┬────────────────────────┐\n",
       "│ name                ┆ lng      ┆ lat       ┆ tz_from_tzfpy  ┆ tz_from_timezonefinder │\n",
       "│ ---                 ┆ ---      ┆ ---       ┆ ---            ┆ ---                    │\n",
       "│ str                 ┆ f64      ┆ f64       ┆ str            ┆ str                    │\n",
       "╞═════════════════════╪══════════╪═══════════╪════════════════╪════════════════════════╡\n",
       "│ Sant Julià de Lòria ┆ 1.49129  ┆ 42.46372  ┆ Europe/Andorra ┆ Europe/Andorra         │\n",
       "│ Pas de la Casa      ┆ 1.73361  ┆ 42.54277  ┆ Europe/Andorra ┆ Europe/Andorra         │\n",
       "│ Ordino              ┆ 1.53319  ┆ 42.55623  ┆ Europe/Andorra ┆ Europe/Andorra         │\n",
       "│ les Escaldes        ┆ 1.53414  ┆ 42.50729  ┆ Europe/Andorra ┆ Europe/Andorra         │\n",
       "│ …                   ┆ …        ┆ …         ┆ …              ┆ …                      │\n",
       "│ Beatrice            ┆ 30.8473  ┆ -18.25283 ┆ Africa/Harare  ┆ Africa/Harare          │\n",
       "│ Banket              ┆ 30.4     ┆ -17.38333 ┆ Africa/Harare  ┆ Africa/Harare          │\n",
       "│ Epworth             ┆ 31.1475  ┆ -17.89    ┆ Africa/Harare  ┆ Africa/Harare          │\n",
       "│ Chitungwiza         ┆ 31.07555 ┆ -18.01274 ┆ Africa/Harare  ┆ Africa/Harare          │\n",
       "└─────────────────────┴──────────┴───────────┴────────────────┴────────────────────────┘"
      ]
     },
     "execution_count": 16,
     "metadata": {},
     "output_type": "execute_result"
    }
   ],
   "source": [
    "p_df"
   ]
  },
  {
   "cell_type": "code",
   "execution_count": null,
   "id": "9f0cd480-c96b-41d4-8156-f7e2b0b3c358",
   "metadata": {},
   "outputs": [],
   "source": []
  }
 ],
 "metadata": {
  "kernelspec": {
   "display_name": "Python 3 (ipykernel)",
   "language": "python",
   "name": "python3"
  },
  "language_info": {
   "codemirror_mode": {
    "name": "ipython",
    "version": 3
   },
   "file_extension": ".py",
   "mimetype": "text/x-python",
   "name": "python",
   "nbconvert_exporter": "python",
   "pygments_lexer": "ipython3",
   "version": "3.9.16"
  }
 },
 "nbformat": 4,
 "nbformat_minor": 5
}
