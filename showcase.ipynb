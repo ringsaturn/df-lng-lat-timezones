{
 "cells": [
  {
   "cell_type": "markdown",
   "id": "81476cdd-c035-414d-8f58-b4715f0b465e",
   "metadata": {},
   "source": [
    "# Batch convert lng,lat to timezone name in dataframes"
   ]
  },
  {
   "cell_type": "markdown",
   "id": "d9124c6b-8466-4150-9744-f1e14358b7db",
   "metadata": {},
   "source": [
    "## Setup"
   ]
  },
  {
   "cell_type": "code",
   "execution_count": 1,
   "id": "731953c2-fe12-47f0-afaa-517d7d2ad199",
   "metadata": {
    "tags": []
   },
   "outputs": [],
   "source": [
    "import pandas as pd\n",
    "import polars as pl\n",
    "import citiespy\n",
    "import tzfpy\n",
    "from timezonefinder import TimezoneFinder"
   ]
  },
  {
   "cell_type": "code",
   "execution_count": 2,
   "id": "c89853fe-ec5b-423c-83db-705fb84b1542",
   "metadata": {
    "tags": []
   },
   "outputs": [
    {
     "data": {
      "text/plain": [
       "'Etc/GMT'"
      ]
     },
     "execution_count": 2,
     "metadata": {},
     "output_type": "execute_result"
    }
   ],
   "source": [
    "tf = TimezoneFinder(in_memory=True)\n",
    "tf.timezone_at(lng=0, lat=0)"
   ]
  },
  {
   "cell_type": "code",
   "execution_count": 3,
   "id": "1deb708a-3a97-4706-a4fc-5bdb9a058b5c",
   "metadata": {
    "tags": []
   },
   "outputs": [
    {
     "data": {
      "text/plain": [
       "'Etc/GMT'"
      ]
     },
     "execution_count": 3,
     "metadata": {},
     "output_type": "execute_result"
    }
   ],
   "source": [
    "tzfpy.get_tz(0, 0)"
   ]
  },
  {
   "cell_type": "code",
   "execution_count": 4,
   "id": "e81c2410-1cdc-453d-9071-defb0ed9b7b1",
   "metadata": {
    "tags": []
   },
   "outputs": [
    {
     "data": {
      "text/plain": [
       "['__all__',\n",
       " '__builtins__',\n",
       " '__cached__',\n",
       " '__doc__',\n",
       " '__file__',\n",
       " '__loader__',\n",
       " '__name__',\n",
       " '__package__',\n",
       " '__path__',\n",
       " '__spec__',\n",
       " 'all_cities',\n",
       " 'citiespy',\n",
       " 'random_city']"
      ]
     },
     "execution_count": 4,
     "metadata": {},
     "output_type": "execute_result"
    }
   ],
   "source": [
    "dir(citiespy)"
   ]
  },
  {
   "cell_type": "code",
   "execution_count": 5,
   "id": "d5b67423-3027-416f-9e62-36875198553a",
   "metadata": {
    "tags": []
   },
   "outputs": [],
   "source": [
    "cities_as_dict = []\n",
    "for city in citiespy.all_cities():\n",
    "    cities_as_dict.append({\"name\": city.name, \"lng\": city.lng, \"lat\": city.lat})"
   ]
  },
  {
   "cell_type": "code",
   "execution_count": 6,
   "id": "e49229b5-e9e4-4d98-9f4e-f6d3817af58c",
   "metadata": {
    "tags": []
   },
   "outputs": [
    {
     "data": {
      "text/plain": [
       "140874"
      ]
     },
     "execution_count": 6,
     "metadata": {},
     "output_type": "execute_result"
    }
   ],
   "source": [
    "len(cities_as_dict)"
   ]
  },
  {
   "cell_type": "markdown",
   "id": "716e2972-3445-4f05-94ed-87c0b5fab0dd",
   "metadata": {},
   "source": [
    "## Pandas"
   ]
  },
  {
   "cell_type": "code",
   "execution_count": 7,
   "id": "9ba7f74e-07f6-4b63-b361-e13d7131d781",
   "metadata": {
    "tags": []
   },
   "outputs": [],
   "source": [
    "df = pd.DataFrame(cities_as_dict)"
   ]
  },
  {
   "cell_type": "code",
   "execution_count": 8,
   "id": "c7c1880d-607c-4b66-a0a3-b3f73280584e",
   "metadata": {
    "tags": []
   },
   "outputs": [
    {
     "data": {
      "text/html": [
       "<div>\n",
       "<style scoped>\n",
       "    .dataframe tbody tr th:only-of-type {\n",
       "        vertical-align: middle;\n",
       "    }\n",
       "\n",
       "    .dataframe tbody tr th {\n",
       "        vertical-align: top;\n",
       "    }\n",
       "\n",
       "    .dataframe thead th {\n",
       "        text-align: right;\n",
       "    }\n",
       "</style>\n",
       "<table border=\"1\" class=\"dataframe\">\n",
       "  <thead>\n",
       "    <tr style=\"text-align: right;\">\n",
       "      <th></th>\n",
       "      <th>name</th>\n",
       "      <th>lng</th>\n",
       "      <th>lat</th>\n",
       "    </tr>\n",
       "  </thead>\n",
       "  <tbody>\n",
       "    <tr>\n",
       "      <th>0</th>\n",
       "      <td>Sant Julià de Lòria</td>\n",
       "      <td>1.49129</td>\n",
       "      <td>42.46372</td>\n",
       "    </tr>\n",
       "    <tr>\n",
       "      <th>1</th>\n",
       "      <td>Pas de la Casa</td>\n",
       "      <td>1.73361</td>\n",
       "      <td>42.54277</td>\n",
       "    </tr>\n",
       "    <tr>\n",
       "      <th>2</th>\n",
       "      <td>Ordino</td>\n",
       "      <td>1.53319</td>\n",
       "      <td>42.55623</td>\n",
       "    </tr>\n",
       "    <tr>\n",
       "      <th>3</th>\n",
       "      <td>les Escaldes</td>\n",
       "      <td>1.53414</td>\n",
       "      <td>42.50729</td>\n",
       "    </tr>\n",
       "    <tr>\n",
       "      <th>4</th>\n",
       "      <td>la Massana</td>\n",
       "      <td>1.51483</td>\n",
       "      <td>42.54499</td>\n",
       "    </tr>\n",
       "    <tr>\n",
       "      <th>...</th>\n",
       "      <td>...</td>\n",
       "      <td>...</td>\n",
       "      <td>...</td>\n",
       "    </tr>\n",
       "    <tr>\n",
       "      <th>140869</th>\n",
       "      <td>Beitbridge</td>\n",
       "      <td>30.00000</td>\n",
       "      <td>-22.21667</td>\n",
       "    </tr>\n",
       "    <tr>\n",
       "      <th>140870</th>\n",
       "      <td>Beatrice</td>\n",
       "      <td>30.84730</td>\n",
       "      <td>-18.25283</td>\n",
       "    </tr>\n",
       "    <tr>\n",
       "      <th>140871</th>\n",
       "      <td>Banket</td>\n",
       "      <td>30.40000</td>\n",
       "      <td>-17.38333</td>\n",
       "    </tr>\n",
       "    <tr>\n",
       "      <th>140872</th>\n",
       "      <td>Epworth</td>\n",
       "      <td>31.14750</td>\n",
       "      <td>-17.89000</td>\n",
       "    </tr>\n",
       "    <tr>\n",
       "      <th>140873</th>\n",
       "      <td>Chitungwiza</td>\n",
       "      <td>31.07555</td>\n",
       "      <td>-18.01274</td>\n",
       "    </tr>\n",
       "  </tbody>\n",
       "</table>\n",
       "<p>140874 rows × 3 columns</p>\n",
       "</div>"
      ],
      "text/plain": [
       "                       name       lng       lat\n",
       "0       Sant Julià de Lòria   1.49129  42.46372\n",
       "1            Pas de la Casa   1.73361  42.54277\n",
       "2                    Ordino   1.53319  42.55623\n",
       "3              les Escaldes   1.53414  42.50729\n",
       "4                la Massana   1.51483  42.54499\n",
       "...                     ...       ...       ...\n",
       "140869           Beitbridge  30.00000 -22.21667\n",
       "140870             Beatrice  30.84730 -18.25283\n",
       "140871               Banket  30.40000 -17.38333\n",
       "140872              Epworth  31.14750 -17.89000\n",
       "140873          Chitungwiza  31.07555 -18.01274\n",
       "\n",
       "[140874 rows x 3 columns]"
      ]
     },
     "execution_count": 8,
     "metadata": {},
     "output_type": "execute_result"
    }
   ],
   "source": [
    "df"
   ]
  },
  {
   "cell_type": "code",
   "execution_count": 9,
   "id": "83c1956f-5b66-4103-9822-39446c092af7",
   "metadata": {
    "tags": []
   },
   "outputs": [
    {
     "ename": "KeyboardInterrupt",
     "evalue": "",
     "output_type": "error",
     "traceback": [
      "\u001b[0;31m---------------------------------------------------------------------------\u001b[0m",
      "\u001b[0;31mKeyboardInterrupt\u001b[0m                         Traceback (most recent call last)",
      "File \u001b[0;32m<timed exec>:1\u001b[0m\n",
      "File \u001b[0;32m~/Projects/df-lng-lat-timezones/venv/lib/python3.9/site-packages/pandas/core/frame.py:9428\u001b[0m, in \u001b[0;36mDataFrame.apply\u001b[0;34m(self, func, axis, raw, result_type, args, **kwargs)\u001b[0m\n\u001b[1;32m   9417\u001b[0m \u001b[38;5;28;01mfrom\u001b[39;00m \u001b[38;5;21;01mpandas\u001b[39;00m\u001b[38;5;21;01m.\u001b[39;00m\u001b[38;5;21;01mcore\u001b[39;00m\u001b[38;5;21;01m.\u001b[39;00m\u001b[38;5;21;01mapply\u001b[39;00m \u001b[38;5;28;01mimport\u001b[39;00m frame_apply\n\u001b[1;32m   9419\u001b[0m op \u001b[38;5;241m=\u001b[39m frame_apply(\n\u001b[1;32m   9420\u001b[0m     \u001b[38;5;28mself\u001b[39m,\n\u001b[1;32m   9421\u001b[0m     func\u001b[38;5;241m=\u001b[39mfunc,\n\u001b[0;32m   (...)\u001b[0m\n\u001b[1;32m   9426\u001b[0m     kwargs\u001b[38;5;241m=\u001b[39mkwargs,\n\u001b[1;32m   9427\u001b[0m )\n\u001b[0;32m-> 9428\u001b[0m \u001b[38;5;28;01mreturn\u001b[39;00m \u001b[43mop\u001b[49m\u001b[38;5;241;43m.\u001b[39;49m\u001b[43mapply\u001b[49m\u001b[43m(\u001b[49m\u001b[43m)\u001b[49m\u001b[38;5;241m.\u001b[39m__finalize__(\u001b[38;5;28mself\u001b[39m, method\u001b[38;5;241m=\u001b[39m\u001b[38;5;124m\"\u001b[39m\u001b[38;5;124mapply\u001b[39m\u001b[38;5;124m\"\u001b[39m)\n",
      "File \u001b[0;32m~/Projects/df-lng-lat-timezones/venv/lib/python3.9/site-packages/pandas/core/apply.py:678\u001b[0m, in \u001b[0;36mFrameApply.apply\u001b[0;34m(self)\u001b[0m\n\u001b[1;32m    675\u001b[0m \u001b[38;5;28;01melif\u001b[39;00m \u001b[38;5;28mself\u001b[39m\u001b[38;5;241m.\u001b[39mraw:\n\u001b[1;32m    676\u001b[0m     \u001b[38;5;28;01mreturn\u001b[39;00m \u001b[38;5;28mself\u001b[39m\u001b[38;5;241m.\u001b[39mapply_raw()\n\u001b[0;32m--> 678\u001b[0m \u001b[38;5;28;01mreturn\u001b[39;00m \u001b[38;5;28;43mself\u001b[39;49m\u001b[38;5;241;43m.\u001b[39;49m\u001b[43mapply_standard\u001b[49m\u001b[43m(\u001b[49m\u001b[43m)\u001b[49m\n",
      "File \u001b[0;32m~/Projects/df-lng-lat-timezones/venv/lib/python3.9/site-packages/pandas/core/apply.py:798\u001b[0m, in \u001b[0;36mFrameApply.apply_standard\u001b[0;34m(self)\u001b[0m\n\u001b[1;32m    797\u001b[0m \u001b[38;5;28;01mdef\u001b[39;00m \u001b[38;5;21mapply_standard\u001b[39m(\u001b[38;5;28mself\u001b[39m):\n\u001b[0;32m--> 798\u001b[0m     results, res_index \u001b[38;5;241m=\u001b[39m \u001b[38;5;28;43mself\u001b[39;49m\u001b[38;5;241;43m.\u001b[39;49m\u001b[43mapply_series_generator\u001b[49m\u001b[43m(\u001b[49m\u001b[43m)\u001b[49m\n\u001b[1;32m    800\u001b[0m     \u001b[38;5;66;03m# wrap results\u001b[39;00m\n\u001b[1;32m    801\u001b[0m     \u001b[38;5;28;01mreturn\u001b[39;00m \u001b[38;5;28mself\u001b[39m\u001b[38;5;241m.\u001b[39mwrap_results(results, res_index)\n",
      "File \u001b[0;32m~/Projects/df-lng-lat-timezones/venv/lib/python3.9/site-packages/pandas/core/apply.py:814\u001b[0m, in \u001b[0;36mFrameApply.apply_series_generator\u001b[0;34m(self)\u001b[0m\n\u001b[1;32m    811\u001b[0m \u001b[38;5;28;01mwith\u001b[39;00m option_context(\u001b[38;5;124m\"\u001b[39m\u001b[38;5;124mmode.chained_assignment\u001b[39m\u001b[38;5;124m\"\u001b[39m, \u001b[38;5;28;01mNone\u001b[39;00m):\n\u001b[1;32m    812\u001b[0m     \u001b[38;5;28;01mfor\u001b[39;00m i, v \u001b[38;5;129;01min\u001b[39;00m \u001b[38;5;28menumerate\u001b[39m(series_gen):\n\u001b[1;32m    813\u001b[0m         \u001b[38;5;66;03m# ignore SettingWithCopy here in case the user mutates\u001b[39;00m\n\u001b[0;32m--> 814\u001b[0m         results[i] \u001b[38;5;241m=\u001b[39m \u001b[38;5;28;43mself\u001b[39;49m\u001b[38;5;241;43m.\u001b[39;49m\u001b[43mf\u001b[49m\u001b[43m(\u001b[49m\u001b[43mv\u001b[49m\u001b[43m)\u001b[49m\n\u001b[1;32m    815\u001b[0m         \u001b[38;5;28;01mif\u001b[39;00m \u001b[38;5;28misinstance\u001b[39m(results[i], ABCSeries):\n\u001b[1;32m    816\u001b[0m             \u001b[38;5;66;03m# If we have a view on v, we need to make a copy because\u001b[39;00m\n\u001b[1;32m    817\u001b[0m             \u001b[38;5;66;03m#  series_generator will swap out the underlying data\u001b[39;00m\n\u001b[1;32m    818\u001b[0m             results[i] \u001b[38;5;241m=\u001b[39m results[i]\u001b[38;5;241m.\u001b[39mcopy(deep\u001b[38;5;241m=\u001b[39m\u001b[38;5;28;01mFalse\u001b[39;00m)\n",
      "File \u001b[0;32m<timed exec>:1\u001b[0m, in \u001b[0;36m<lambda>\u001b[0;34m(x)\u001b[0m\n",
      "File \u001b[0;32m~/Projects/df-lng-lat-timezones/venv/lib/python3.9/site-packages/timezonefinder/timezonefinder.py:447\u001b[0m, in \u001b[0;36mTimezoneFinder.timezone_at\u001b[0;34m(self, lng, lat)\u001b[0m\n\u001b[1;32m    444\u001b[0m \u001b[38;5;28;01mif\u001b[39;00m i \u001b[38;5;241m>\u001b[39m\u001b[38;5;241m=\u001b[39m last_zone_change_idx:\n\u001b[1;32m    445\u001b[0m     \u001b[38;5;28;01mbreak\u001b[39;00m\n\u001b[0;32m--> 447\u001b[0m \u001b[38;5;28;01mif\u001b[39;00m \u001b[38;5;28;43mself\u001b[39;49m\u001b[38;5;241;43m.\u001b[39;49m\u001b[43minside_of_polygon\u001b[49m\u001b[43m(\u001b[49m\u001b[43mpoly_id\u001b[49m\u001b[43m,\u001b[49m\u001b[43m \u001b[49m\u001b[43mx\u001b[49m\u001b[43m,\u001b[49m\u001b[43m \u001b[49m\u001b[43my\u001b[49m\u001b[43m)\u001b[49m:\n\u001b[1;32m    448\u001b[0m     zone_id \u001b[38;5;241m=\u001b[39m zone_ids[i]\n\u001b[1;32m    449\u001b[0m     \u001b[38;5;28;01mreturn\u001b[39;00m \u001b[38;5;28mself\u001b[39m\u001b[38;5;241m.\u001b[39mzone_name_from_id(zone_id)\n",
      "File \u001b[0;32m~/Projects/df-lng-lat-timezones/venv/lib/python3.9/site-packages/timezonefinder/timezonefinder.py:388\u001b[0m, in \u001b[0;36mTimezoneFinder.inside_of_polygon\u001b[0;34m(self, poly_id, x, y)\u001b[0m\n\u001b[1;32m    385\u001b[0m \u001b[38;5;28;01mdef\u001b[39;00m \u001b[38;5;21minside_of_polygon\u001b[39m(\u001b[38;5;28mself\u001b[39m, poly_id: \u001b[38;5;28mint\u001b[39m, x: \u001b[38;5;28mint\u001b[39m, y: \u001b[38;5;28mint\u001b[39m) \u001b[38;5;241m-\u001b[39m\u001b[38;5;241m>\u001b[39m \u001b[38;5;28mbool\u001b[39m:\n\u001b[1;32m    386\u001b[0m     \u001b[38;5;66;03m# only read polygon (hole) data on demand\u001b[39;00m\n\u001b[1;32m    387\u001b[0m     \u001b[38;5;66;03m# only run the expensive algorithm if the point is withing the boundaries\u001b[39;00m\n\u001b[0;32m--> 388\u001b[0m     \u001b[38;5;28;01mif\u001b[39;00m \u001b[38;5;28;43mself\u001b[39;49m\u001b[38;5;241;43m.\u001b[39;49m\u001b[43moutside_the_boundaries_of\u001b[49m\u001b[43m(\u001b[49m\u001b[43mpoly_id\u001b[49m\u001b[43m,\u001b[49m\u001b[43m \u001b[49m\u001b[43mx\u001b[49m\u001b[43m,\u001b[49m\u001b[43m \u001b[49m\u001b[43my\u001b[49m\u001b[43m)\u001b[49m:\n\u001b[1;32m    389\u001b[0m         \u001b[38;5;28;01mreturn\u001b[39;00m \u001b[38;5;28;01mFalse\u001b[39;00m\n\u001b[1;32m    391\u001b[0m     \u001b[38;5;28;01mif\u001b[39;00m \u001b[38;5;129;01mnot\u001b[39;00m inside_polygon(x, y, \u001b[38;5;28mself\u001b[39m\u001b[38;5;241m.\u001b[39mcoords_of(polygon_nr\u001b[38;5;241m=\u001b[39mpoly_id)):\n",
      "File \u001b[0;32m~/Projects/df-lng-lat-timezones/venv/lib/python3.9/site-packages/timezonefinder/timezonefinder.py:377\u001b[0m, in \u001b[0;36mTimezoneFinder.outside_the_boundaries_of\u001b[0;34m(self, poly_id, x, y)\u001b[0m\n\u001b[1;32m    374\u001b[0m \u001b[38;5;28;01mdef\u001b[39;00m \u001b[38;5;21moutside_the_boundaries_of\u001b[39m(\u001b[38;5;28mself\u001b[39m, poly_id: \u001b[38;5;28mint\u001b[39m, x: \u001b[38;5;28mint\u001b[39m, y: \u001b[38;5;28mint\u001b[39m) \u001b[38;5;241m-\u001b[39m\u001b[38;5;241m>\u001b[39m \u001b[38;5;28mbool\u001b[39m:\n\u001b[1;32m    375\u001b[0m     \u001b[38;5;66;03m# get the boundaries of the polygon = (lng_max, lng_min, lat_max, lat_min) converted to int32\u001b[39;00m\n\u001b[1;32m    376\u001b[0m     poly_max_values \u001b[38;5;241m=\u001b[39m \u001b[38;5;28mgetattr\u001b[39m(\u001b[38;5;28mself\u001b[39m, POLY_MAX_VALUES)\n\u001b[0;32m--> 377\u001b[0m     poly_max_values\u001b[38;5;241m.\u001b[39mseek(\u001b[38;5;241;43m4\u001b[39;49m\u001b[43m \u001b[49m\u001b[38;5;241;43m*\u001b[39;49m\u001b[43m \u001b[49m\u001b[43mNR_BYTES_I\u001b[49m\u001b[43m \u001b[49m\u001b[38;5;241;43m*\u001b[39;49m\u001b[43m \u001b[49m\u001b[43mpoly_id\u001b[49m)\n\u001b[1;32m    378\u001b[0m     xmax, xmin, ymax, ymin \u001b[38;5;241m=\u001b[39m \u001b[38;5;28mself\u001b[39m\u001b[38;5;241m.\u001b[39m_fromfile(\n\u001b[1;32m    379\u001b[0m         poly_max_values,\n\u001b[1;32m    380\u001b[0m         dtype\u001b[38;5;241m=\u001b[39mDTYPE_FORMAT_SIGNED_I_NUMPY,\n\u001b[1;32m    381\u001b[0m         count\u001b[38;5;241m=\u001b[39m\u001b[38;5;241m4\u001b[39m,\n\u001b[1;32m    382\u001b[0m     )\n\u001b[1;32m    383\u001b[0m     \u001b[38;5;28;01mreturn\u001b[39;00m x \u001b[38;5;241m>\u001b[39m xmax \u001b[38;5;129;01mor\u001b[39;00m x \u001b[38;5;241m<\u001b[39m xmin \u001b[38;5;129;01mor\u001b[39;00m y \u001b[38;5;241m>\u001b[39m ymax \u001b[38;5;129;01mor\u001b[39;00m y \u001b[38;5;241m<\u001b[39m ymin\n",
      "\u001b[0;31mKeyboardInterrupt\u001b[0m: "
     ]
    }
   ],
   "source": [
    "%%time\n",
    "df[\"tz_from_timezonefinder\"] = df.apply(lambda x: tf.timezone_at(lng=x.lng, lat=x.lat), axis=1)"
   ]
  },
  {
   "cell_type": "code",
   "execution_count": 10,
   "id": "0cb8a43f-2231-4e1a-a8ac-274242f6484f",
   "metadata": {
    "tags": []
   },
   "outputs": [
    {
     "name": "stdout",
     "output_type": "stream",
     "text": [
      "CPU times: user 2.84 s, sys: 48.1 ms, total: 2.89 s\n",
      "Wall time: 2.91 s\n"
     ]
    }
   ],
   "source": [
    "%%time\n",
    "df[\"tz_from_tzfpy\"] = df.apply(lambda x: tzfpy.get_tz(x.lng, x.lat), axis=1)"
   ]
  },
  {
   "cell_type": "code",
   "execution_count": 11,
   "id": "11cbae4b-c73f-4107-b450-63df6b1447e0",
   "metadata": {
    "tags": []
   },
   "outputs": [
    {
     "data": {
      "text/html": [
       "<div>\n",
       "<style scoped>\n",
       "    .dataframe tbody tr th:only-of-type {\n",
       "        vertical-align: middle;\n",
       "    }\n",
       "\n",
       "    .dataframe tbody tr th {\n",
       "        vertical-align: top;\n",
       "    }\n",
       "\n",
       "    .dataframe thead th {\n",
       "        text-align: right;\n",
       "    }\n",
       "</style>\n",
       "<table border=\"1\" class=\"dataframe\">\n",
       "  <thead>\n",
       "    <tr style=\"text-align: right;\">\n",
       "      <th></th>\n",
       "      <th>name</th>\n",
       "      <th>lng</th>\n",
       "      <th>lat</th>\n",
       "      <th>tz_from_tzfpy</th>\n",
       "    </tr>\n",
       "  </thead>\n",
       "  <tbody>\n",
       "    <tr>\n",
       "      <th>0</th>\n",
       "      <td>Sant Julià de Lòria</td>\n",
       "      <td>1.49129</td>\n",
       "      <td>42.46372</td>\n",
       "      <td>Europe/Andorra</td>\n",
       "    </tr>\n",
       "    <tr>\n",
       "      <th>1</th>\n",
       "      <td>Pas de la Casa</td>\n",
       "      <td>1.73361</td>\n",
       "      <td>42.54277</td>\n",
       "      <td>Europe/Andorra</td>\n",
       "    </tr>\n",
       "    <tr>\n",
       "      <th>2</th>\n",
       "      <td>Ordino</td>\n",
       "      <td>1.53319</td>\n",
       "      <td>42.55623</td>\n",
       "      <td>Europe/Andorra</td>\n",
       "    </tr>\n",
       "    <tr>\n",
       "      <th>3</th>\n",
       "      <td>les Escaldes</td>\n",
       "      <td>1.53414</td>\n",
       "      <td>42.50729</td>\n",
       "      <td>Europe/Andorra</td>\n",
       "    </tr>\n",
       "    <tr>\n",
       "      <th>4</th>\n",
       "      <td>la Massana</td>\n",
       "      <td>1.51483</td>\n",
       "      <td>42.54499</td>\n",
       "      <td>Europe/Andorra</td>\n",
       "    </tr>\n",
       "    <tr>\n",
       "      <th>...</th>\n",
       "      <td>...</td>\n",
       "      <td>...</td>\n",
       "      <td>...</td>\n",
       "      <td>...</td>\n",
       "    </tr>\n",
       "    <tr>\n",
       "      <th>140869</th>\n",
       "      <td>Beitbridge</td>\n",
       "      <td>30.00000</td>\n",
       "      <td>-22.21667</td>\n",
       "      <td>Africa/Harare</td>\n",
       "    </tr>\n",
       "    <tr>\n",
       "      <th>140870</th>\n",
       "      <td>Beatrice</td>\n",
       "      <td>30.84730</td>\n",
       "      <td>-18.25283</td>\n",
       "      <td>Africa/Harare</td>\n",
       "    </tr>\n",
       "    <tr>\n",
       "      <th>140871</th>\n",
       "      <td>Banket</td>\n",
       "      <td>30.40000</td>\n",
       "      <td>-17.38333</td>\n",
       "      <td>Africa/Harare</td>\n",
       "    </tr>\n",
       "    <tr>\n",
       "      <th>140872</th>\n",
       "      <td>Epworth</td>\n",
       "      <td>31.14750</td>\n",
       "      <td>-17.89000</td>\n",
       "      <td>Africa/Harare</td>\n",
       "    </tr>\n",
       "    <tr>\n",
       "      <th>140873</th>\n",
       "      <td>Chitungwiza</td>\n",
       "      <td>31.07555</td>\n",
       "      <td>-18.01274</td>\n",
       "      <td>Africa/Harare</td>\n",
       "    </tr>\n",
       "  </tbody>\n",
       "</table>\n",
       "<p>140874 rows × 4 columns</p>\n",
       "</div>"
      ],
      "text/plain": [
       "                       name       lng       lat   tz_from_tzfpy\n",
       "0       Sant Julià de Lòria   1.49129  42.46372  Europe/Andorra\n",
       "1            Pas de la Casa   1.73361  42.54277  Europe/Andorra\n",
       "2                    Ordino   1.53319  42.55623  Europe/Andorra\n",
       "3              les Escaldes   1.53414  42.50729  Europe/Andorra\n",
       "4                la Massana   1.51483  42.54499  Europe/Andorra\n",
       "...                     ...       ...       ...             ...\n",
       "140869           Beitbridge  30.00000 -22.21667   Africa/Harare\n",
       "140870             Beatrice  30.84730 -18.25283   Africa/Harare\n",
       "140871               Banket  30.40000 -17.38333   Africa/Harare\n",
       "140872              Epworth  31.14750 -17.89000   Africa/Harare\n",
       "140873          Chitungwiza  31.07555 -18.01274   Africa/Harare\n",
       "\n",
       "[140874 rows x 4 columns]"
      ]
     },
     "execution_count": 11,
     "metadata": {},
     "output_type": "execute_result"
    }
   ],
   "source": [
    "df"
   ]
  },
  {
   "cell_type": "markdown",
   "id": "c01277a4-febe-4810-9552-7d7ed2e763ec",
   "metadata": {},
   "source": [
    "## Pandas(Vectorized)"
   ]
  },
  {
   "cell_type": "code",
   "execution_count": 12,
   "id": "a0e02ec4-c8f7-4e97-a4ec-90825dec5128",
   "metadata": {
    "tags": []
   },
   "outputs": [],
   "source": [
    "import numpy as np\n",
    "\n",
    "vec_tzfpy_get_tz = np.vectorize(tzfpy.get_tz)\n",
    "vec_timezonefinder_timezone_at = np.vectorize(tf.timezone_at)"
   ]
  },
  {
   "cell_type": "code",
   "execution_count": 13,
   "id": "9b82b27a-4896-4558-9bc9-76a709e5595a",
   "metadata": {
    "tags": []
   },
   "outputs": [
    {
     "name": "stdout",
     "output_type": "stream",
     "text": [
      "CPU times: user 559 ms, sys: 38.2 ms, total: 597 ms\n",
      "Wall time: 602 ms\n"
     ]
    },
    {
     "name": "stderr",
     "output_type": "stream",
     "text": [
      "/Users/ringsaturn/Projects/df-lng-lat-timezones/venv/lib/python3.9/site-packages/numpy/lib/function_base.py:2412: RuntimeWarning: divide by zero encountered in get_tz (vectorized)\n",
      "  outputs = ufunc(*inputs)\n"
     ]
    }
   ],
   "source": [
    "%%time\n",
    "df[\"tz_from_tzfpy_vectorized\"] = vec_tzfpy_get_tz(df[\"lng\"], df[\"lat\"])"
   ]
  },
  {
   "cell_type": "code",
   "execution_count": null,
   "id": "35285127-6b22-4200-be7d-d3a26e980145",
   "metadata": {
    "tags": []
   },
   "outputs": [],
   "source": [
    "%%time\n",
    "df[\"tz_from_timezonefinder_vectorized\"] = vec_timezonefinder_timezone_at(lng=df[\"lng\"], lat=df[\"lat\"])"
   ]
  },
  {
   "cell_type": "code",
   "execution_count": null,
   "id": "aa1145fe-30cd-4879-a34a-6ac756f696eb",
   "metadata": {},
   "outputs": [],
   "source": [
    "df"
   ]
  },
  {
   "cell_type": "markdown",
   "id": "7efc9fc4-7ff4-4ccf-9b59-fc02135553a7",
   "metadata": {},
   "source": [
    "## Polars"
   ]
  },
  {
   "cell_type": "code",
   "execution_count": null,
   "id": "0d97c201-a7c7-449c-b98e-8e872a2b8c92",
   "metadata": {
    "tags": []
   },
   "outputs": [],
   "source": [
    "p_df = pl.from_dicts(cities_as_dict)"
   ]
  },
  {
   "cell_type": "code",
   "execution_count": null,
   "id": "15ee3e2a-fa72-48d9-92b7-d79aa073ab16",
   "metadata": {
    "tags": []
   },
   "outputs": [],
   "source": [
    "p_df"
   ]
  },
  {
   "cell_type": "code",
   "execution_count": null,
   "id": "75e863e1-c2c5-4666-8470-e8af41e9c462",
   "metadata": {
    "tags": []
   },
   "outputs": [],
   "source": [
    "%%time\n",
    "p_df = p_df.with_columns(\n",
    "    pl.struct([\"lng\", \"lat\"])\n",
    "    .apply(lambda cols: tf.timezone_at(lng=cols[\"lng\"], lat=cols[\"lat\"]))\n",
    "    .alias(\"tz_from_timezonefinder\")\n",
    ")"
   ]
  },
  {
   "cell_type": "code",
   "execution_count": null,
   "id": "23cd301c-a038-414c-af54-436307564b05",
   "metadata": {
    "tags": []
   },
   "outputs": [],
   "source": [
    "%%time\n",
    "p_df = p_df.with_columns(\n",
    "    pl.struct([\"lng\", \"lat\"])\n",
    "    .apply(lambda cols: tzfpy.get_tz(cols[\"lng\"], cols[\"lat\"]))\n",
    "    .alias(\"tz_from_tzfpy\")\n",
    ")"
   ]
  },
  {
   "cell_type": "code",
   "execution_count": null,
   "id": "8dc43189-6c58-4818-ac7b-2bb0904e727b",
   "metadata": {
    "tags": []
   },
   "outputs": [],
   "source": [
    "p_df"
   ]
  },
  {
   "cell_type": "code",
   "execution_count": null,
   "id": "9f0cd480-c96b-41d4-8156-f7e2b0b3c358",
   "metadata": {},
   "outputs": [],
   "source": []
  }
 ],
 "metadata": {
  "kernelspec": {
   "display_name": "Python 3 (ipykernel)",
   "language": "python",
   "name": "python3"
  },
  "language_info": {
   "codemirror_mode": {
    "name": "ipython",
    "version": 3
   },
   "file_extension": ".py",
   "mimetype": "text/x-python",
   "name": "python",
   "nbconvert_exporter": "python",
   "pygments_lexer": "ipython3",
   "version": "3.9.16"
  }
 },
 "nbformat": 4,
 "nbformat_minor": 5
}
