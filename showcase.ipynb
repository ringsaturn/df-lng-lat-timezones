{
 "cells": [
  {
   "cell_type": "markdown",
   "id": "81476cdd-c035-414d-8f58-b4715f0b465e",
   "metadata": {},
   "source": [
    "# Batch convert lng,lat to timezone name in dataframes"
   ]
  },
  {
   "cell_type": "markdown",
   "id": "d9124c6b-8466-4150-9744-f1e14358b7db",
   "metadata": {},
   "source": [
    "## Setup"
   ]
  },
  {
   "cell_type": "code",
   "execution_count": 1,
   "id": "731953c2-fe12-47f0-afaa-517d7d2ad199",
   "metadata": {
    "tags": []
   },
   "outputs": [
    {
     "name": "stderr",
     "output_type": "stream",
     "text": [
      "/var/folders/v9/ymxllsv16cxgzwczt3lwq3g00000gn/T/ipykernel_55828/3254192208.py:3: DeprecationWarning: \n",
      "Pyarrow will become a required dependency of pandas in the next major release of pandas (pandas 3.0),\n",
      "(to allow more performant data types, such as the Arrow string type, and better interoperability with other libraries)\n",
      "but was not found to be installed on your system.\n",
      "If this would cause problems for you,\n",
      "please provide us feedback at https://github.com/pandas-dev/pandas/issues/54466\n",
      "        \n",
      "  import pandas as pd\n"
     ]
    }
   ],
   "source": [
    "import citiespy\n",
    "import numpy as np\n",
    "import pandas as pd\n",
    "import polars as pl\n",
    "import tzfpy\n",
    "from timezonefinder import TimezoneFinder"
   ]
  },
  {
   "cell_type": "code",
   "execution_count": 2,
   "id": "c89853fe-ec5b-423c-83db-705fb84b1542",
   "metadata": {
    "tags": []
   },
   "outputs": [
    {
     "data": {
      "text/plain": [
       "'Etc/GMT'"
      ]
     },
     "execution_count": 2,
     "metadata": {},
     "output_type": "execute_result"
    }
   ],
   "source": [
    "tf = TimezoneFinder(in_memory=True)\n",
    "tf.timezone_at(lng=0, lat=0)"
   ]
  },
  {
   "cell_type": "code",
   "execution_count": 3,
   "id": "1deb708a-3a97-4706-a4fc-5bdb9a058b5c",
   "metadata": {
    "tags": []
   },
   "outputs": [
    {
     "data": {
      "text/plain": [
       "'Etc/GMT'"
      ]
     },
     "execution_count": 3,
     "metadata": {},
     "output_type": "execute_result"
    }
   ],
   "source": [
    "tzfpy.get_tz(0, 0)"
   ]
  },
  {
   "cell_type": "code",
   "execution_count": 4,
   "id": "e81c2410-1cdc-453d-9071-defb0ed9b7b1",
   "metadata": {
    "tags": []
   },
   "outputs": [
    {
     "data": {
      "text/plain": [
       "['__all__',\n",
       " '__builtins__',\n",
       " '__cached__',\n",
       " '__doc__',\n",
       " '__file__',\n",
       " '__loader__',\n",
       " '__name__',\n",
       " '__package__',\n",
       " '__path__',\n",
       " '__spec__',\n",
       " 'all_cities',\n",
       " 'citiespy',\n",
       " 'random_city']"
      ]
     },
     "execution_count": 4,
     "metadata": {},
     "output_type": "execute_result"
    }
   ],
   "source": [
    "dir(citiespy)"
   ]
  },
  {
   "cell_type": "code",
   "execution_count": 5,
   "id": "d5b67423-3027-416f-9e62-36875198553a",
   "metadata": {
    "tags": []
   },
   "outputs": [],
   "source": [
    "cities_as_dict = []\n",
    "for city in citiespy.all_cities():\n",
    "    cities_as_dict.append({\"name\": city.name, \"lng\": city.lng, \"lat\": city.lat})"
   ]
  },
  {
   "cell_type": "code",
   "execution_count": 6,
   "id": "e49229b5-e9e4-4d98-9f4e-f6d3817af58c",
   "metadata": {
    "tags": []
   },
   "outputs": [
    {
     "data": {
      "text/plain": [
       "145611"
      ]
     },
     "execution_count": 6,
     "metadata": {},
     "output_type": "execute_result"
    }
   ],
   "source": [
    "len(cities_as_dict)"
   ]
  },
  {
   "cell_type": "markdown",
   "id": "716e2972-3445-4f05-94ed-87c0b5fab0dd",
   "metadata": {},
   "source": [
    "## Pandas"
   ]
  },
  {
   "cell_type": "code",
   "execution_count": 7,
   "id": "9ba7f74e-07f6-4b63-b361-e13d7131d781",
   "metadata": {
    "tags": []
   },
   "outputs": [],
   "source": [
    "df = pd.DataFrame(cities_as_dict)"
   ]
  },
  {
   "cell_type": "code",
   "execution_count": 8,
   "id": "c7c1880d-607c-4b66-a0a3-b3f73280584e",
   "metadata": {
    "tags": []
   },
   "outputs": [
    {
     "data": {
      "text/html": [
       "<div>\n",
       "<style scoped>\n",
       "    .dataframe tbody tr th:only-of-type {\n",
       "        vertical-align: middle;\n",
       "    }\n",
       "\n",
       "    .dataframe tbody tr th {\n",
       "        vertical-align: top;\n",
       "    }\n",
       "\n",
       "    .dataframe thead th {\n",
       "        text-align: right;\n",
       "    }\n",
       "</style>\n",
       "<table border=\"1\" class=\"dataframe\">\n",
       "  <thead>\n",
       "    <tr style=\"text-align: right;\">\n",
       "      <th></th>\n",
       "      <th>name</th>\n",
       "      <th>lng</th>\n",
       "      <th>lat</th>\n",
       "    </tr>\n",
       "  </thead>\n",
       "  <tbody>\n",
       "    <tr>\n",
       "      <th>0</th>\n",
       "      <td>Sant Julià de Lòria</td>\n",
       "      <td>1.49129</td>\n",
       "      <td>42.46372</td>\n",
       "    </tr>\n",
       "    <tr>\n",
       "      <th>1</th>\n",
       "      <td>Pas de la Casa</td>\n",
       "      <td>1.73361</td>\n",
       "      <td>42.54277</td>\n",
       "    </tr>\n",
       "    <tr>\n",
       "      <th>2</th>\n",
       "      <td>Ordino</td>\n",
       "      <td>1.53319</td>\n",
       "      <td>42.55623</td>\n",
       "    </tr>\n",
       "    <tr>\n",
       "      <th>3</th>\n",
       "      <td>les Escaldes</td>\n",
       "      <td>1.53414</td>\n",
       "      <td>42.50729</td>\n",
       "    </tr>\n",
       "    <tr>\n",
       "      <th>4</th>\n",
       "      <td>la Massana</td>\n",
       "      <td>1.51483</td>\n",
       "      <td>42.54499</td>\n",
       "    </tr>\n",
       "    <tr>\n",
       "      <th>...</th>\n",
       "      <td>...</td>\n",
       "      <td>...</td>\n",
       "      <td>...</td>\n",
       "    </tr>\n",
       "    <tr>\n",
       "      <th>145606</th>\n",
       "      <td>Beitbridge</td>\n",
       "      <td>30.00000</td>\n",
       "      <td>-22.21667</td>\n",
       "    </tr>\n",
       "    <tr>\n",
       "      <th>145607</th>\n",
       "      <td>Beatrice</td>\n",
       "      <td>30.84730</td>\n",
       "      <td>-18.25283</td>\n",
       "    </tr>\n",
       "    <tr>\n",
       "      <th>145608</th>\n",
       "      <td>Banket</td>\n",
       "      <td>30.40000</td>\n",
       "      <td>-17.38333</td>\n",
       "    </tr>\n",
       "    <tr>\n",
       "      <th>145609</th>\n",
       "      <td>Epworth</td>\n",
       "      <td>31.14750</td>\n",
       "      <td>-17.89000</td>\n",
       "    </tr>\n",
       "    <tr>\n",
       "      <th>145610</th>\n",
       "      <td>Chitungwiza</td>\n",
       "      <td>31.07555</td>\n",
       "      <td>-18.01274</td>\n",
       "    </tr>\n",
       "  </tbody>\n",
       "</table>\n",
       "<p>145611 rows × 3 columns</p>\n",
       "</div>"
      ],
      "text/plain": [
       "                       name       lng       lat\n",
       "0       Sant Julià de Lòria   1.49129  42.46372\n",
       "1            Pas de la Casa   1.73361  42.54277\n",
       "2                    Ordino   1.53319  42.55623\n",
       "3              les Escaldes   1.53414  42.50729\n",
       "4                la Massana   1.51483  42.54499\n",
       "...                     ...       ...       ...\n",
       "145606           Beitbridge  30.00000 -22.21667\n",
       "145607             Beatrice  30.84730 -18.25283\n",
       "145608               Banket  30.40000 -17.38333\n",
       "145609              Epworth  31.14750 -17.89000\n",
       "145610          Chitungwiza  31.07555 -18.01274\n",
       "\n",
       "[145611 rows x 3 columns]"
      ]
     },
     "execution_count": 8,
     "metadata": {},
     "output_type": "execute_result"
    }
   ],
   "source": [
    "df"
   ]
  },
  {
   "cell_type": "code",
   "execution_count": 9,
   "id": "83c1956f-5b66-4103-9822-39446c092af7",
   "metadata": {
    "tags": []
   },
   "outputs": [
    {
     "name": "stdout",
     "output_type": "stream",
     "text": [
      "CPU times: user 2.59 s, sys: 52.4 ms, total: 2.64 s\n",
      "Wall time: 2.64 s\n"
     ]
    }
   ],
   "source": [
    "%%time\n",
    "df[\"tz_from_timezonefinder\"] = df.apply(lambda x: tf.timezone_at(lng=x.lng, lat=x.lat), axis=1)"
   ]
  },
  {
   "cell_type": "code",
   "execution_count": 10,
   "id": "0cb8a43f-2231-4e1a-a8ac-274242f6484f",
   "metadata": {
    "tags": []
   },
   "outputs": [
    {
     "name": "stdout",
     "output_type": "stream",
     "text": [
      "CPU times: user 802 ms, sys: 5.3 ms, total: 808 ms\n",
      "Wall time: 807 ms\n"
     ]
    }
   ],
   "source": [
    "%%time\n",
    "df[\"tz_from_tzfpy\"] = df.apply(lambda x: tzfpy.get_tz(x.lng, x.lat), axis=1)"
   ]
  },
  {
   "cell_type": "code",
   "execution_count": 11,
   "id": "11cbae4b-c73f-4107-b450-63df6b1447e0",
   "metadata": {
    "tags": []
   },
   "outputs": [
    {
     "data": {
      "text/html": [
       "<div>\n",
       "<style scoped>\n",
       "    .dataframe tbody tr th:only-of-type {\n",
       "        vertical-align: middle;\n",
       "    }\n",
       "\n",
       "    .dataframe tbody tr th {\n",
       "        vertical-align: top;\n",
       "    }\n",
       "\n",
       "    .dataframe thead th {\n",
       "        text-align: right;\n",
       "    }\n",
       "</style>\n",
       "<table border=\"1\" class=\"dataframe\">\n",
       "  <thead>\n",
       "    <tr style=\"text-align: right;\">\n",
       "      <th></th>\n",
       "      <th>name</th>\n",
       "      <th>lng</th>\n",
       "      <th>lat</th>\n",
       "      <th>tz_from_timezonefinder</th>\n",
       "      <th>tz_from_tzfpy</th>\n",
       "    </tr>\n",
       "  </thead>\n",
       "  <tbody>\n",
       "    <tr>\n",
       "      <th>0</th>\n",
       "      <td>Sant Julià de Lòria</td>\n",
       "      <td>1.49129</td>\n",
       "      <td>42.46372</td>\n",
       "      <td>Europe/Andorra</td>\n",
       "      <td>Europe/Andorra</td>\n",
       "    </tr>\n",
       "    <tr>\n",
       "      <th>1</th>\n",
       "      <td>Pas de la Casa</td>\n",
       "      <td>1.73361</td>\n",
       "      <td>42.54277</td>\n",
       "      <td>Europe/Andorra</td>\n",
       "      <td>Europe/Andorra</td>\n",
       "    </tr>\n",
       "    <tr>\n",
       "      <th>2</th>\n",
       "      <td>Ordino</td>\n",
       "      <td>1.53319</td>\n",
       "      <td>42.55623</td>\n",
       "      <td>Europe/Andorra</td>\n",
       "      <td>Europe/Andorra</td>\n",
       "    </tr>\n",
       "    <tr>\n",
       "      <th>3</th>\n",
       "      <td>les Escaldes</td>\n",
       "      <td>1.53414</td>\n",
       "      <td>42.50729</td>\n",
       "      <td>Europe/Andorra</td>\n",
       "      <td>Europe/Andorra</td>\n",
       "    </tr>\n",
       "    <tr>\n",
       "      <th>4</th>\n",
       "      <td>la Massana</td>\n",
       "      <td>1.51483</td>\n",
       "      <td>42.54499</td>\n",
       "      <td>Europe/Andorra</td>\n",
       "      <td>Europe/Andorra</td>\n",
       "    </tr>\n",
       "    <tr>\n",
       "      <th>...</th>\n",
       "      <td>...</td>\n",
       "      <td>...</td>\n",
       "      <td>...</td>\n",
       "      <td>...</td>\n",
       "      <td>...</td>\n",
       "    </tr>\n",
       "    <tr>\n",
       "      <th>145606</th>\n",
       "      <td>Beitbridge</td>\n",
       "      <td>30.00000</td>\n",
       "      <td>-22.21667</td>\n",
       "      <td>Africa/Harare</td>\n",
       "      <td>Africa/Harare</td>\n",
       "    </tr>\n",
       "    <tr>\n",
       "      <th>145607</th>\n",
       "      <td>Beatrice</td>\n",
       "      <td>30.84730</td>\n",
       "      <td>-18.25283</td>\n",
       "      <td>Africa/Harare</td>\n",
       "      <td>Africa/Harare</td>\n",
       "    </tr>\n",
       "    <tr>\n",
       "      <th>145608</th>\n",
       "      <td>Banket</td>\n",
       "      <td>30.40000</td>\n",
       "      <td>-17.38333</td>\n",
       "      <td>Africa/Harare</td>\n",
       "      <td>Africa/Harare</td>\n",
       "    </tr>\n",
       "    <tr>\n",
       "      <th>145609</th>\n",
       "      <td>Epworth</td>\n",
       "      <td>31.14750</td>\n",
       "      <td>-17.89000</td>\n",
       "      <td>Africa/Harare</td>\n",
       "      <td>Africa/Harare</td>\n",
       "    </tr>\n",
       "    <tr>\n",
       "      <th>145610</th>\n",
       "      <td>Chitungwiza</td>\n",
       "      <td>31.07555</td>\n",
       "      <td>-18.01274</td>\n",
       "      <td>Africa/Harare</td>\n",
       "      <td>Africa/Harare</td>\n",
       "    </tr>\n",
       "  </tbody>\n",
       "</table>\n",
       "<p>145611 rows × 5 columns</p>\n",
       "</div>"
      ],
      "text/plain": [
       "                       name       lng       lat tz_from_timezonefinder  \\\n",
       "0       Sant Julià de Lòria   1.49129  42.46372         Europe/Andorra   \n",
       "1            Pas de la Casa   1.73361  42.54277         Europe/Andorra   \n",
       "2                    Ordino   1.53319  42.55623         Europe/Andorra   \n",
       "3              les Escaldes   1.53414  42.50729         Europe/Andorra   \n",
       "4                la Massana   1.51483  42.54499         Europe/Andorra   \n",
       "...                     ...       ...       ...                    ...   \n",
       "145606           Beitbridge  30.00000 -22.21667          Africa/Harare   \n",
       "145607             Beatrice  30.84730 -18.25283          Africa/Harare   \n",
       "145608               Banket  30.40000 -17.38333          Africa/Harare   \n",
       "145609              Epworth  31.14750 -17.89000          Africa/Harare   \n",
       "145610          Chitungwiza  31.07555 -18.01274          Africa/Harare   \n",
       "\n",
       "         tz_from_tzfpy  \n",
       "0       Europe/Andorra  \n",
       "1       Europe/Andorra  \n",
       "2       Europe/Andorra  \n",
       "3       Europe/Andorra  \n",
       "4       Europe/Andorra  \n",
       "...                ...  \n",
       "145606   Africa/Harare  \n",
       "145607   Africa/Harare  \n",
       "145608   Africa/Harare  \n",
       "145609   Africa/Harare  \n",
       "145610   Africa/Harare  \n",
       "\n",
       "[145611 rows x 5 columns]"
      ]
     },
     "execution_count": 11,
     "metadata": {},
     "output_type": "execute_result"
    }
   ],
   "source": [
    "df"
   ]
  },
  {
   "cell_type": "markdown",
   "id": "c01277a4-febe-4810-9552-7d7ed2e763ec",
   "metadata": {},
   "source": [
    "## Pandas(Vectorized)"
   ]
  },
  {
   "cell_type": "code",
   "execution_count": 12,
   "id": "a0e02ec4-c8f7-4e97-a4ec-90825dec5128",
   "metadata": {
    "tags": []
   },
   "outputs": [],
   "source": [
    "vec_tzfpy_get_tz = np.vectorize(tzfpy.get_tz)\n",
    "vec_timezonefinder_timezone_at = np.vectorize(tf.timezone_at)"
   ]
  },
  {
   "cell_type": "code",
   "execution_count": 13,
   "id": "9b82b27a-4896-4558-9bc9-76a709e5595a",
   "metadata": {
    "tags": []
   },
   "outputs": [
    {
     "name": "stdout",
     "output_type": "stream",
     "text": [
      "CPU times: user 201 ms, sys: 4.44 ms, total: 206 ms\n",
      "Wall time: 205 ms\n"
     ]
    },
    {
     "name": "stderr",
     "output_type": "stream",
     "text": [
      "/Users/ringsaturn/Projects/df-lng-lat-timezones/venv/lib/python3.11/site-packages/numpy/lib/function_base.py:2455: RuntimeWarning: divide by zero encountered in get_tz (vectorized)\n",
      "  outputs = ufunc(*inputs)\n"
     ]
    }
   ],
   "source": [
    "%%time\n",
    "df[\"tz_from_tzfpy_vectorized\"] = vec_tzfpy_get_tz(df[\"lng\"], df[\"lat\"])"
   ]
  },
  {
   "cell_type": "code",
   "execution_count": 14,
   "id": "35285127-6b22-4200-be7d-d3a26e980145",
   "metadata": {
    "tags": []
   },
   "outputs": [
    {
     "name": "stdout",
     "output_type": "stream",
     "text": [
      "CPU times: user 1.95 s, sys: 72.5 ms, total: 2.02 s\n",
      "Wall time: 2.02 s\n"
     ]
    }
   ],
   "source": [
    "%%time\n",
    "df[\"tz_from_timezonefinder_vectorized\"] = vec_timezonefinder_timezone_at(lng=df[\"lng\"], lat=df[\"lat\"])"
   ]
  },
  {
   "cell_type": "code",
   "execution_count": 15,
   "id": "aa1145fe-30cd-4879-a34a-6ac756f696eb",
   "metadata": {},
   "outputs": [
    {
     "data": {
      "text/html": [
       "<div>\n",
       "<style scoped>\n",
       "    .dataframe tbody tr th:only-of-type {\n",
       "        vertical-align: middle;\n",
       "    }\n",
       "\n",
       "    .dataframe tbody tr th {\n",
       "        vertical-align: top;\n",
       "    }\n",
       "\n",
       "    .dataframe thead th {\n",
       "        text-align: right;\n",
       "    }\n",
       "</style>\n",
       "<table border=\"1\" class=\"dataframe\">\n",
       "  <thead>\n",
       "    <tr style=\"text-align: right;\">\n",
       "      <th></th>\n",
       "      <th>name</th>\n",
       "      <th>lng</th>\n",
       "      <th>lat</th>\n",
       "      <th>tz_from_timezonefinder</th>\n",
       "      <th>tz_from_tzfpy</th>\n",
       "      <th>tz_from_tzfpy_vectorized</th>\n",
       "      <th>tz_from_timezonefinder_vectorized</th>\n",
       "    </tr>\n",
       "  </thead>\n",
       "  <tbody>\n",
       "    <tr>\n",
       "      <th>0</th>\n",
       "      <td>Sant Julià de Lòria</td>\n",
       "      <td>1.49129</td>\n",
       "      <td>42.46372</td>\n",
       "      <td>Europe/Andorra</td>\n",
       "      <td>Europe/Andorra</td>\n",
       "      <td>Europe/Andorra</td>\n",
       "      <td>Europe/Andorra</td>\n",
       "    </tr>\n",
       "    <tr>\n",
       "      <th>1</th>\n",
       "      <td>Pas de la Casa</td>\n",
       "      <td>1.73361</td>\n",
       "      <td>42.54277</td>\n",
       "      <td>Europe/Andorra</td>\n",
       "      <td>Europe/Andorra</td>\n",
       "      <td>Europe/Andorra</td>\n",
       "      <td>Europe/Andorra</td>\n",
       "    </tr>\n",
       "    <tr>\n",
       "      <th>2</th>\n",
       "      <td>Ordino</td>\n",
       "      <td>1.53319</td>\n",
       "      <td>42.55623</td>\n",
       "      <td>Europe/Andorra</td>\n",
       "      <td>Europe/Andorra</td>\n",
       "      <td>Europe/Andorra</td>\n",
       "      <td>Europe/Andorra</td>\n",
       "    </tr>\n",
       "    <tr>\n",
       "      <th>3</th>\n",
       "      <td>les Escaldes</td>\n",
       "      <td>1.53414</td>\n",
       "      <td>42.50729</td>\n",
       "      <td>Europe/Andorra</td>\n",
       "      <td>Europe/Andorra</td>\n",
       "      <td>Europe/Andorra</td>\n",
       "      <td>Europe/Andorra</td>\n",
       "    </tr>\n",
       "    <tr>\n",
       "      <th>4</th>\n",
       "      <td>la Massana</td>\n",
       "      <td>1.51483</td>\n",
       "      <td>42.54499</td>\n",
       "      <td>Europe/Andorra</td>\n",
       "      <td>Europe/Andorra</td>\n",
       "      <td>Europe/Andorra</td>\n",
       "      <td>Europe/Andorra</td>\n",
       "    </tr>\n",
       "    <tr>\n",
       "      <th>...</th>\n",
       "      <td>...</td>\n",
       "      <td>...</td>\n",
       "      <td>...</td>\n",
       "      <td>...</td>\n",
       "      <td>...</td>\n",
       "      <td>...</td>\n",
       "      <td>...</td>\n",
       "    </tr>\n",
       "    <tr>\n",
       "      <th>145606</th>\n",
       "      <td>Beitbridge</td>\n",
       "      <td>30.00000</td>\n",
       "      <td>-22.21667</td>\n",
       "      <td>Africa/Harare</td>\n",
       "      <td>Africa/Harare</td>\n",
       "      <td>Africa/Harare</td>\n",
       "      <td>Africa/Harare</td>\n",
       "    </tr>\n",
       "    <tr>\n",
       "      <th>145607</th>\n",
       "      <td>Beatrice</td>\n",
       "      <td>30.84730</td>\n",
       "      <td>-18.25283</td>\n",
       "      <td>Africa/Harare</td>\n",
       "      <td>Africa/Harare</td>\n",
       "      <td>Africa/Harare</td>\n",
       "      <td>Africa/Harare</td>\n",
       "    </tr>\n",
       "    <tr>\n",
       "      <th>145608</th>\n",
       "      <td>Banket</td>\n",
       "      <td>30.40000</td>\n",
       "      <td>-17.38333</td>\n",
       "      <td>Africa/Harare</td>\n",
       "      <td>Africa/Harare</td>\n",
       "      <td>Africa/Harare</td>\n",
       "      <td>Africa/Harare</td>\n",
       "    </tr>\n",
       "    <tr>\n",
       "      <th>145609</th>\n",
       "      <td>Epworth</td>\n",
       "      <td>31.14750</td>\n",
       "      <td>-17.89000</td>\n",
       "      <td>Africa/Harare</td>\n",
       "      <td>Africa/Harare</td>\n",
       "      <td>Africa/Harare</td>\n",
       "      <td>Africa/Harare</td>\n",
       "    </tr>\n",
       "    <tr>\n",
       "      <th>145610</th>\n",
       "      <td>Chitungwiza</td>\n",
       "      <td>31.07555</td>\n",
       "      <td>-18.01274</td>\n",
       "      <td>Africa/Harare</td>\n",
       "      <td>Africa/Harare</td>\n",
       "      <td>Africa/Harare</td>\n",
       "      <td>Africa/Harare</td>\n",
       "    </tr>\n",
       "  </tbody>\n",
       "</table>\n",
       "<p>145611 rows × 7 columns</p>\n",
       "</div>"
      ],
      "text/plain": [
       "                       name       lng       lat tz_from_timezonefinder  \\\n",
       "0       Sant Julià de Lòria   1.49129  42.46372         Europe/Andorra   \n",
       "1            Pas de la Casa   1.73361  42.54277         Europe/Andorra   \n",
       "2                    Ordino   1.53319  42.55623         Europe/Andorra   \n",
       "3              les Escaldes   1.53414  42.50729         Europe/Andorra   \n",
       "4                la Massana   1.51483  42.54499         Europe/Andorra   \n",
       "...                     ...       ...       ...                    ...   \n",
       "145606           Beitbridge  30.00000 -22.21667          Africa/Harare   \n",
       "145607             Beatrice  30.84730 -18.25283          Africa/Harare   \n",
       "145608               Banket  30.40000 -17.38333          Africa/Harare   \n",
       "145609              Epworth  31.14750 -17.89000          Africa/Harare   \n",
       "145610          Chitungwiza  31.07555 -18.01274          Africa/Harare   \n",
       "\n",
       "         tz_from_tzfpy tz_from_tzfpy_vectorized  \\\n",
       "0       Europe/Andorra           Europe/Andorra   \n",
       "1       Europe/Andorra           Europe/Andorra   \n",
       "2       Europe/Andorra           Europe/Andorra   \n",
       "3       Europe/Andorra           Europe/Andorra   \n",
       "4       Europe/Andorra           Europe/Andorra   \n",
       "...                ...                      ...   \n",
       "145606   Africa/Harare            Africa/Harare   \n",
       "145607   Africa/Harare            Africa/Harare   \n",
       "145608   Africa/Harare            Africa/Harare   \n",
       "145609   Africa/Harare            Africa/Harare   \n",
       "145610   Africa/Harare            Africa/Harare   \n",
       "\n",
       "       tz_from_timezonefinder_vectorized  \n",
       "0                         Europe/Andorra  \n",
       "1                         Europe/Andorra  \n",
       "2                         Europe/Andorra  \n",
       "3                         Europe/Andorra  \n",
       "4                         Europe/Andorra  \n",
       "...                                  ...  \n",
       "145606                     Africa/Harare  \n",
       "145607                     Africa/Harare  \n",
       "145608                     Africa/Harare  \n",
       "145609                     Africa/Harare  \n",
       "145610                     Africa/Harare  \n",
       "\n",
       "[145611 rows x 7 columns]"
      ]
     },
     "execution_count": 15,
     "metadata": {},
     "output_type": "execute_result"
    }
   ],
   "source": [
    "df"
   ]
  },
  {
   "cell_type": "markdown",
   "id": "7efc9fc4-7ff4-4ccf-9b59-fc02135553a7",
   "metadata": {},
   "source": [
    "## Polars"
   ]
  },
  {
   "cell_type": "code",
   "execution_count": 16,
   "id": "0d97c201-a7c7-449c-b98e-8e872a2b8c92",
   "metadata": {
    "tags": []
   },
   "outputs": [],
   "source": [
    "p_df = pl.from_dicts(cities_as_dict)"
   ]
  },
  {
   "cell_type": "code",
   "execution_count": 17,
   "id": "15ee3e2a-fa72-48d9-92b7-d79aa073ab16",
   "metadata": {
    "tags": []
   },
   "outputs": [
    {
     "data": {
      "text/html": [
       "<div><style>\n",
       ".dataframe > thead > tr,\n",
       ".dataframe > tbody > tr {\n",
       "  text-align: right;\n",
       "  white-space: pre-wrap;\n",
       "}\n",
       "</style>\n",
       "<small>shape: (145_611, 3)</small><table border=\"1\" class=\"dataframe\"><thead><tr><th>name</th><th>lng</th><th>lat</th></tr><tr><td>str</td><td>f64</td><td>f64</td></tr></thead><tbody><tr><td>&quot;Sant Julià de …</td><td>1.49129</td><td>42.46372</td></tr><tr><td>&quot;Pas de la Casa…</td><td>1.73361</td><td>42.54277</td></tr><tr><td>&quot;Ordino&quot;</td><td>1.53319</td><td>42.55623</td></tr><tr><td>&quot;les Escaldes&quot;</td><td>1.53414</td><td>42.50729</td></tr><tr><td>&quot;la Massana&quot;</td><td>1.51483</td><td>42.54499</td></tr><tr><td>&quot;Encamp&quot;</td><td>1.58014</td><td>42.53474</td></tr><tr><td>&quot;Canillo&quot;</td><td>1.59756</td><td>42.5676</td></tr><tr><td>&quot;Arinsal&quot;</td><td>1.48453</td><td>42.57205</td></tr><tr><td>&quot;Andorra la Vel…</td><td>1.52109</td><td>42.50779</td></tr><tr><td>&quot;Umm Al Quwain …</td><td>55.55517</td><td>25.56473</td></tr><tr><td>&quot;Ras Al Khaimah…</td><td>55.9432</td><td>25.78953</td></tr><tr><td>&quot;Muzayri‘&quot;</td><td>53.7881</td><td>23.14355</td></tr><tr><td>&hellip;</td><td>&hellip;</td><td>&hellip;</td></tr><tr><td>&quot;Chimanimani&quot;</td><td>32.86667</td><td>-19.8</td></tr><tr><td>&quot;Chegutu&quot;</td><td>30.14074</td><td>-18.13021</td></tr><tr><td>&quot;Chakari&quot;</td><td>29.89246</td><td>-18.06294</td></tr><tr><td>&quot;Centenary&quot;</td><td>31.11462</td><td>-16.72289</td></tr><tr><td>&quot;Bulawayo&quot;</td><td>28.58333</td><td>-20.15</td></tr><tr><td>&quot;Binga&quot;</td><td>27.34139</td><td>-17.62027</td></tr><tr><td>&quot;Bindura&quot;</td><td>31.33056</td><td>-17.30192</td></tr><tr><td>&quot;Beitbridge&quot;</td><td>30.0</td><td>-22.21667</td></tr><tr><td>&quot;Beatrice&quot;</td><td>30.8473</td><td>-18.25283</td></tr><tr><td>&quot;Banket&quot;</td><td>30.4</td><td>-17.38333</td></tr><tr><td>&quot;Epworth&quot;</td><td>31.1475</td><td>-17.89</td></tr><tr><td>&quot;Chitungwiza&quot;</td><td>31.07555</td><td>-18.01274</td></tr></tbody></table></div>"
      ],
      "text/plain": [
       "shape: (145_611, 3)\n",
       "┌─────────────────────┬──────────┬───────────┐\n",
       "│ name                ┆ lng      ┆ lat       │\n",
       "│ ---                 ┆ ---      ┆ ---       │\n",
       "│ str                 ┆ f64      ┆ f64       │\n",
       "╞═════════════════════╪══════════╪═══════════╡\n",
       "│ Sant Julià de Lòria ┆ 1.49129  ┆ 42.46372  │\n",
       "│ Pas de la Casa      ┆ 1.73361  ┆ 42.54277  │\n",
       "│ Ordino              ┆ 1.53319  ┆ 42.55623  │\n",
       "│ les Escaldes        ┆ 1.53414  ┆ 42.50729  │\n",
       "│ …                   ┆ …        ┆ …         │\n",
       "│ Beatrice            ┆ 30.8473  ┆ -18.25283 │\n",
       "│ Banket              ┆ 30.4     ┆ -17.38333 │\n",
       "│ Epworth             ┆ 31.1475  ┆ -17.89    │\n",
       "│ Chitungwiza         ┆ 31.07555 ┆ -18.01274 │\n",
       "└─────────────────────┴──────────┴───────────┘"
      ]
     },
     "execution_count": 17,
     "metadata": {},
     "output_type": "execute_result"
    }
   ],
   "source": [
    "p_df"
   ]
  },
  {
   "cell_type": "code",
   "execution_count": 18,
   "id": "75e863e1-c2c5-4666-8470-e8af41e9c462",
   "metadata": {
    "tags": []
   },
   "outputs": [
    {
     "name": "stderr",
     "output_type": "stream",
     "text": [
      "<timed exec>:3: DeprecationWarning: `apply` is deprecated. It has been renamed to `map_elements`.\n"
     ]
    },
    {
     "name": "stdout",
     "output_type": "stream",
     "text": [
      "CPU times: user 2 s, sys: 118 ms, total: 2.12 s\n",
      "Wall time: 2.12 s\n"
     ]
    }
   ],
   "source": [
    "%%time\n",
    "p_df = p_df.with_columns(\n",
    "    pl.struct([\"lng\", \"lat\"])\n",
    "    .apply(lambda cols: tf.timezone_at(lng=cols[\"lng\"], lat=cols[\"lat\"]))\n",
    "    .alias(\"tz_from_timezonefinder\")\n",
    ")"
   ]
  },
  {
   "cell_type": "code",
   "execution_count": 19,
   "id": "23cd301c-a038-414c-af54-436307564b05",
   "metadata": {
    "tags": []
   },
   "outputs": [
    {
     "name": "stderr",
     "output_type": "stream",
     "text": [
      "<timed exec>:3: DeprecationWarning: `apply` is deprecated. It has been renamed to `map_elements`.\n"
     ]
    },
    {
     "name": "stdout",
     "output_type": "stream",
     "text": [
      "CPU times: user 258 ms, sys: 8.47 ms, total: 267 ms\n",
      "Wall time: 266 ms\n"
     ]
    }
   ],
   "source": [
    "%%time\n",
    "p_df = p_df.with_columns(\n",
    "    pl.struct([\"lng\", \"lat\"])\n",
    "    .apply(lambda cols: tzfpy.get_tz(cols[\"lng\"], cols[\"lat\"]))\n",
    "    .alias(\"tz_from_tzfpy\")\n",
    ")"
   ]
  },
  {
   "cell_type": "code",
   "execution_count": 20,
   "id": "8dc43189-6c58-4818-ac7b-2bb0904e727b",
   "metadata": {
    "scrolled": true,
    "tags": []
   },
   "outputs": [
    {
     "data": {
      "text/html": [
       "<div><style>\n",
       ".dataframe > thead > tr,\n",
       ".dataframe > tbody > tr {\n",
       "  text-align: right;\n",
       "  white-space: pre-wrap;\n",
       "}\n",
       "</style>\n",
       "<small>shape: (145_611, 5)</small><table border=\"1\" class=\"dataframe\"><thead><tr><th>name</th><th>lng</th><th>lat</th><th>tz_from_timezonefinder</th><th>tz_from_tzfpy</th></tr><tr><td>str</td><td>f64</td><td>f64</td><td>str</td><td>str</td></tr></thead><tbody><tr><td>&quot;Sant Julià de …</td><td>1.49129</td><td>42.46372</td><td>&quot;Europe/Andorra…</td><td>&quot;Europe/Andorra…</td></tr><tr><td>&quot;Pas de la Casa…</td><td>1.73361</td><td>42.54277</td><td>&quot;Europe/Andorra…</td><td>&quot;Europe/Andorra…</td></tr><tr><td>&quot;Ordino&quot;</td><td>1.53319</td><td>42.55623</td><td>&quot;Europe/Andorra…</td><td>&quot;Europe/Andorra…</td></tr><tr><td>&quot;les Escaldes&quot;</td><td>1.53414</td><td>42.50729</td><td>&quot;Europe/Andorra…</td><td>&quot;Europe/Andorra…</td></tr><tr><td>&quot;la Massana&quot;</td><td>1.51483</td><td>42.54499</td><td>&quot;Europe/Andorra…</td><td>&quot;Europe/Andorra…</td></tr><tr><td>&quot;Encamp&quot;</td><td>1.58014</td><td>42.53474</td><td>&quot;Europe/Andorra…</td><td>&quot;Europe/Andorra…</td></tr><tr><td>&quot;Canillo&quot;</td><td>1.59756</td><td>42.5676</td><td>&quot;Europe/Andorra…</td><td>&quot;Europe/Andorra…</td></tr><tr><td>&quot;Arinsal&quot;</td><td>1.48453</td><td>42.57205</td><td>&quot;Europe/Andorra…</td><td>&quot;Europe/Andorra…</td></tr><tr><td>&quot;Andorra la Vel…</td><td>1.52109</td><td>42.50779</td><td>&quot;Europe/Andorra…</td><td>&quot;Europe/Andorra…</td></tr><tr><td>&quot;Umm Al Quwain …</td><td>55.55517</td><td>25.56473</td><td>&quot;Asia/Dubai&quot;</td><td>&quot;Asia/Dubai&quot;</td></tr><tr><td>&quot;Ras Al Khaimah…</td><td>55.9432</td><td>25.78953</td><td>&quot;Asia/Dubai&quot;</td><td>&quot;Asia/Dubai&quot;</td></tr><tr><td>&quot;Muzayri‘&quot;</td><td>53.7881</td><td>23.14355</td><td>&quot;Asia/Dubai&quot;</td><td>&quot;Asia/Dubai&quot;</td></tr><tr><td>&hellip;</td><td>&hellip;</td><td>&hellip;</td><td>&hellip;</td><td>&hellip;</td></tr><tr><td>&quot;Chimanimani&quot;</td><td>32.86667</td><td>-19.8</td><td>&quot;Africa/Harare&quot;</td><td>&quot;Africa/Harare&quot;</td></tr><tr><td>&quot;Chegutu&quot;</td><td>30.14074</td><td>-18.13021</td><td>&quot;Africa/Harare&quot;</td><td>&quot;Africa/Harare&quot;</td></tr><tr><td>&quot;Chakari&quot;</td><td>29.89246</td><td>-18.06294</td><td>&quot;Africa/Harare&quot;</td><td>&quot;Africa/Harare&quot;</td></tr><tr><td>&quot;Centenary&quot;</td><td>31.11462</td><td>-16.72289</td><td>&quot;Africa/Harare&quot;</td><td>&quot;Africa/Harare&quot;</td></tr><tr><td>&quot;Bulawayo&quot;</td><td>28.58333</td><td>-20.15</td><td>&quot;Africa/Harare&quot;</td><td>&quot;Africa/Harare&quot;</td></tr><tr><td>&quot;Binga&quot;</td><td>27.34139</td><td>-17.62027</td><td>&quot;Africa/Harare&quot;</td><td>&quot;Africa/Harare&quot;</td></tr><tr><td>&quot;Bindura&quot;</td><td>31.33056</td><td>-17.30192</td><td>&quot;Africa/Harare&quot;</td><td>&quot;Africa/Harare&quot;</td></tr><tr><td>&quot;Beitbridge&quot;</td><td>30.0</td><td>-22.21667</td><td>&quot;Africa/Harare&quot;</td><td>&quot;Africa/Harare&quot;</td></tr><tr><td>&quot;Beatrice&quot;</td><td>30.8473</td><td>-18.25283</td><td>&quot;Africa/Harare&quot;</td><td>&quot;Africa/Harare&quot;</td></tr><tr><td>&quot;Banket&quot;</td><td>30.4</td><td>-17.38333</td><td>&quot;Africa/Harare&quot;</td><td>&quot;Africa/Harare&quot;</td></tr><tr><td>&quot;Epworth&quot;</td><td>31.1475</td><td>-17.89</td><td>&quot;Africa/Harare&quot;</td><td>&quot;Africa/Harare&quot;</td></tr><tr><td>&quot;Chitungwiza&quot;</td><td>31.07555</td><td>-18.01274</td><td>&quot;Africa/Harare&quot;</td><td>&quot;Africa/Harare&quot;</td></tr></tbody></table></div>"
      ],
      "text/plain": [
       "shape: (145_611, 5)\n",
       "┌─────────────────────┬──────────┬───────────┬────────────────────────┬────────────────┐\n",
       "│ name                ┆ lng      ┆ lat       ┆ tz_from_timezonefinder ┆ tz_from_tzfpy  │\n",
       "│ ---                 ┆ ---      ┆ ---       ┆ ---                    ┆ ---            │\n",
       "│ str                 ┆ f64      ┆ f64       ┆ str                    ┆ str            │\n",
       "╞═════════════════════╪══════════╪═══════════╪════════════════════════╪════════════════╡\n",
       "│ Sant Julià de Lòria ┆ 1.49129  ┆ 42.46372  ┆ Europe/Andorra         ┆ Europe/Andorra │\n",
       "│ Pas de la Casa      ┆ 1.73361  ┆ 42.54277  ┆ Europe/Andorra         ┆ Europe/Andorra │\n",
       "│ Ordino              ┆ 1.53319  ┆ 42.55623  ┆ Europe/Andorra         ┆ Europe/Andorra │\n",
       "│ les Escaldes        ┆ 1.53414  ┆ 42.50729  ┆ Europe/Andorra         ┆ Europe/Andorra │\n",
       "│ …                   ┆ …        ┆ …         ┆ …                      ┆ …              │\n",
       "│ Beatrice            ┆ 30.8473  ┆ -18.25283 ┆ Africa/Harare          ┆ Africa/Harare  │\n",
       "│ Banket              ┆ 30.4     ┆ -17.38333 ┆ Africa/Harare          ┆ Africa/Harare  │\n",
       "│ Epworth             ┆ 31.1475  ┆ -17.89    ┆ Africa/Harare          ┆ Africa/Harare  │\n",
       "│ Chitungwiza         ┆ 31.07555 ┆ -18.01274 ┆ Africa/Harare          ┆ Africa/Harare  │\n",
       "└─────────────────────┴──────────┴───────────┴────────────────────────┴────────────────┘"
      ]
     },
     "execution_count": 20,
     "metadata": {},
     "output_type": "execute_result"
    }
   ],
   "source": [
    "p_df"
   ]
  },
  {
   "cell_type": "markdown",
   "id": "75b48195-411b-4a13-9105-c32c77dd8ac2",
   "metadata": {},
   "source": [
    "## Polars via `polars_dates`"
   ]
  },
  {
   "cell_type": "code",
   "execution_count": 21,
   "id": "b38791cb-c9cc-427f-af17-886116b2a2cc",
   "metadata": {},
   "outputs": [
    {
     "name": "stdout",
     "output_type": "stream",
     "text": [
      "lib is /Users/ringsaturn/Projects/df-lng-lat-timezones/deps/polars-dates/polars_dates/_internal.cpython-311-darwin.so\n"
     ]
    }
   ],
   "source": [
    "import polars_dates as pl_dates"
   ]
  },
  {
   "cell_type": "code",
   "execution_count": 22,
   "id": "c8a670c9-3c21-420d-9f39-28458460a501",
   "metadata": {},
   "outputs": [
    {
     "name": "stdout",
     "output_type": "stream",
     "text": [
      "lookup_timezone function called col(\"lat\") col(\"lng\")\n",
      "Yo I got col(\"lat\")\n",
      "lats shape: (145_611,)\n",
      "Series: 'lat' [f64]\n",
      "[\n",
      "\t42.46372\n",
      "\t42.54277\n",
      "\t42.55623\n",
      "\t42.50729\n",
      "\t42.54499\n",
      "\t42.53474\n",
      "\t42.5676\n",
      "\t42.57205\n",
      "\t42.50779\n",
      "\t25.56473\n",
      "\t25.78953\n",
      "\t23.14355\n",
      "\t…\n",
      "\t-17.36667\n",
      "\t-19.8\n",
      "\t-18.13021\n",
      "\t-18.06294\n",
      "\t-16.72289\n",
      "\t-20.15\n",
      "\t-17.62027\n",
      "\t-17.30192\n",
      "\t-22.21667\n",
      "\t-18.25283\n",
      "\t-17.38333\n",
      "\t-17.89\n",
      "\t-18.01274\n",
      "]\n",
      "lons shape: (145_611,)\n",
      "Series: 'lng' [f64]\n",
      "[\n",
      "\t1.49129\n",
      "\t1.73361\n",
      "\t1.53319\n",
      "\t1.53414\n",
      "\t1.51483\n",
      "\t1.58014\n",
      "\t1.59756\n",
      "\t1.48453\n",
      "\t1.52109\n",
      "\t55.55517\n",
      "\t55.9432\n",
      "\t53.7881\n",
      "\t…\n",
      "\t30.2\n",
      "\t32.86667\n",
      "\t30.14074\n",
      "\t29.89246\n",
      "\t31.11462\n",
      "\t28.58333\n",
      "\t27.34139\n",
      "\t31.33056\n",
      "\t30.0\n",
      "\t30.8473\n",
      "\t30.4\n",
      "\t31.1475\n",
      "\t31.07555\n",
      "]\n",
      "CPU times: user 1.46 s, sys: 7.26 ms, total: 1.47 s\n",
      "Wall time: 1.47 s\n"
     ]
    }
   ],
   "source": [
    "%%time\n",
    "p_df = p_df.with_columns(\n",
    "    tz_from_polars_dates_tz=pl_dates.lookup_timezone(pl.col(\"lat\"), pl.col(\"lng\"))\n",
    ")"
   ]
  },
  {
   "cell_type": "markdown",
   "id": "a45fe0c6-90cf-40d0-97fe-dcf981a45534",
   "metadata": {},
   "source": [
    "## Pure NumPy"
   ]
  },
  {
   "cell_type": "code",
   "execution_count": 23,
   "id": "01c3e86b-f6f0-45fc-88f1-a46297ea7161",
   "metadata": {
    "tags": []
   },
   "outputs": [],
   "source": [
    "lng_array = np.array(df[\"lng\"])\n",
    "lat_array = np.array(df[\"lat\"])"
   ]
  },
  {
   "cell_type": "code",
   "execution_count": 24,
   "id": "3372fce4-3747-4e66-b06e-701fdd496a35",
   "metadata": {
    "tags": []
   },
   "outputs": [
    {
     "name": "stdout",
     "output_type": "stream",
     "text": [
      "CPU times: user 190 ms, sys: 1.16 ms, total: 191 ms\n",
      "Wall time: 190 ms\n"
     ]
    },
    {
     "name": "stderr",
     "output_type": "stream",
     "text": [
      "/Users/ringsaturn/Projects/df-lng-lat-timezones/venv/lib/python3.11/site-packages/numpy/lib/function_base.py:2455: RuntimeWarning: divide by zero encountered in get_tz (vectorized)\n",
      "  outputs = ufunc(*inputs)\n"
     ]
    }
   ],
   "source": [
    "%%time\n",
    "_ = vec_tzfpy_get_tz(lng_array, lat_array)"
   ]
  },
  {
   "cell_type": "code",
   "execution_count": 25,
   "id": "23a71157-e893-4c31-9f0a-b26d099591e3",
   "metadata": {
    "tags": []
   },
   "outputs": [
    {
     "name": "stdout",
     "output_type": "stream",
     "text": [
      "CPU times: user 1.93 s, sys: 32.5 ms, total: 1.96 s\n",
      "Wall time: 1.96 s\n"
     ]
    }
   ],
   "source": [
    "%%time\n",
    "_ = vec_timezonefinder_timezone_at(lng=lng_array, lat=lat_array)"
   ]
  },
  {
   "cell_type": "code",
   "execution_count": null,
   "id": "d47f97bb-539f-466b-b478-eccaf6d47baf",
   "metadata": {},
   "outputs": [],
   "source": []
  }
 ],
 "metadata": {
  "kernelspec": {
   "display_name": "Python 3 (ipykernel)",
   "language": "python",
   "name": "python3"
  },
  "language_info": {
   "codemirror_mode": {
    "name": "ipython",
    "version": 3
   },
   "file_extension": ".py",
   "mimetype": "text/x-python",
   "name": "python",
   "nbconvert_exporter": "python",
   "pygments_lexer": "ipython3",
   "version": "3.11.7"
  }
 },
 "nbformat": 4,
 "nbformat_minor": 5
}
